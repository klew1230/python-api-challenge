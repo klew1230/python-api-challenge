{
 "cells": [
  {
   "cell_type": "markdown",
   "metadata": {},
   "source": [
    "# WeatherPy\n",
    "----\n",
    "\n",
    "#### Note\n",
    "* Instructions have been included for each segment. You do not have to follow them exactly, but they are included to help you think through the steps."
   ]
  },
  {
   "cell_type": "code",
   "execution_count": 1,
   "metadata": {
    "scrolled": true
   },
   "outputs": [],
   "source": [
    "# Dependencies and Setup\n",
    "import matplotlib.pyplot as plt\n",
    "import pandas as pd\n",
    "import numpy as np\n",
    "import requests\n",
    "import time\n",
    "from scipy.stats import linregress\n",
    "\n",
    "# Import API key\n",
    "from api_keys import weather_api_key\n",
    "\n",
    "# Incorporated citipy to determine city based on latitude and longitude\n",
    "from citipy import citipy\n",
    "\n",
    "# Output File (CSV)\n",
    "output_data_file = \"output_data/cities.csv\"\n",
    "\n",
    "# Range of latitudes and longitudes\n",
    "lat_range = (-90, 90)\n",
    "lng_range = (-180, 180)"
   ]
  },
  {
   "cell_type": "markdown",
   "metadata": {},
   "source": [
    "## Generate Cities List"
   ]
  },
  {
   "cell_type": "code",
   "execution_count": 2,
   "metadata": {},
   "outputs": [
    {
     "data": {
      "text/plain": [
       "626"
      ]
     },
     "execution_count": 2,
     "metadata": {},
     "output_type": "execute_result"
    }
   ],
   "source": [
    "# List for holding lat_lngs and cities\n",
    "lat_lngs = []\n",
    "cities = []\n",
    "\n",
    "# Create a set of random lat and lng combinations\n",
    "lats = np.random.uniform(lat_range[0], lat_range[1], size=1500)\n",
    "lngs = np.random.uniform(lng_range[0], lng_range[1], size=1500)\n",
    "lat_lngs = zip(lats, lngs)\n",
    "\n",
    "# Identify nearest city for each lat, lng combination\n",
    "for lat_lng in lat_lngs:\n",
    "    city = citipy.nearest_city(lat_lng[0], lat_lng[1]).city_name\n",
    "    \n",
    "    # If the city is unique, then add it to a our cities list\n",
    "    if city not in cities:\n",
    "        cities.append(city)\n",
    "\n",
    "# Print the city count to confirm sufficient count\n",
    "len(cities)"
   ]
  },
  {
   "cell_type": "markdown",
   "metadata": {},
   "source": [
    "### Perform API Calls\n",
    "* Perform a weather check on each city using a series of successive API calls.\n",
    "* Include a print log of each city as it'sbeing processed (with the city number and city name).\n"
   ]
  },
  {
   "cell_type": "code",
   "execution_count": null,
   "metadata": {
    "scrolled": true
   },
   "outputs": [
    {
     "name": "stdout",
     "output_type": "stream",
     "text": [
      "Error: mataura\n",
      "Error: rio gallegos\n",
      "Error: nagua\n",
      "Error: ushuaia\n",
      "Error: bathsheba\n",
      "Error: souillac\n",
      "Error: mar del plata\n",
      "Error: los llanos de aridane\n",
      "Error: filimonovo\n",
      "Error: goderich\n",
      "Error: astolfo dutra\n",
      "Error: kodiak\n",
      "Error: senlis\n",
      "Error: petropavlovsk-kamchatskiy\n",
      "Error: arraial do cabo\n",
      "Error: bambous virieux\n",
      "Error: meulaboh\n",
      "Error: nikolskoye\n",
      "Error: chuy\n",
      "Error: marcona\n",
      "Error: belushya guba\n",
      "Error: yellowknife\n",
      "Error: saskylakh\n",
      "Error: severo-yeniseyskiy\n",
      "Error: albany\n",
      "Error: port-gentil\n",
      "Error: vaini\n",
      "Error: punta arenas\n",
      "Error: mackay\n",
      "Error: barrow\n",
      "Error: taksimo\n",
      "Error: new norfolk\n",
      "Error: mount pleasant\n",
      "Error: kazalinsk\n",
      "Error: antalaha\n",
      "Error: acarau\n",
      "Error: narrabri\n",
      "Error: cape town\n",
      "Error: caravelas\n",
      "Error: rikitea\n",
      "Error: east london\n",
      "Error: kailua\n",
      "Error: castro\n",
      "Error: aldama\n",
      "Error: jardim\n",
      "Error: lingyuan\n",
      "Error: pincher creek\n",
      "Error: bethel\n",
      "Error: quatre cocos\n",
      "Error: san bartolome de tirajana\n",
      "Error: kavieng\n",
      "Error: thompson\n",
      "Error: butaritari\n",
      "Error: chokwe\n",
      "Error: rolim de moura\n",
      "Error: broken hill\n",
      "Error: terney\n",
      "Error: abiy adi\n",
      "Error: korsakov\n",
      "Error: muzhi\n",
      "Error: arak\n",
      "Error: opole\n",
      "Error: grindavik\n",
      "Error: alice springs\n",
      "Error: carnarvon\n",
      "Error: chicama\n",
      "Error: airai\n",
      "Error: chokurdakh\n",
      "Error: saint-philippe\n",
      "Error: geraldton\n",
      "Error: faanui\n",
      "Error: grand river south east\n",
      "Error: port alfred\n",
      "Error: tiksi\n",
      "Error: ostrovnoy\n",
      "Error: namatanai\n",
      "Error: vao\n",
      "Error: barentsburg\n",
      "Error: victoria\n",
      "Error: murdochville\n",
      "Error: avarua\n",
      "Error: talnakh\n",
      "Error: saint george\n",
      "Error: torbay\n",
      "Error: kapaa\n",
      "Error: wollongong\n",
      "Error: taolanaro\n",
      "Error: lorengau\n",
      "Error: cabo san lucas\n",
      "Error: homer\n",
      "Error: nabire\n",
      "Error: port augusta\n",
      "Error: hofn\n",
      "Error: beringovskiy\n",
      "Error: khorramshahr\n",
      "Error: samusu\n",
      "Error: longyearbyen\n",
      "Error: sorland\n",
      "Error: hithadhoo\n",
      "Error: bredasdorp\n",
      "Error: tambul\n",
      "Error: altonia\n",
      "Error: kushiro\n",
      "Error: lerwick\n",
      "Error: oytal\n",
      "Error: maeriste\n",
      "Error: wajima\n",
      "Error: padang\n",
      "Error: norman wells\n",
      "Error: sentyabrskiy\n",
      "Error: riyadh\n",
      "Error: aripuana\n",
      "Error: tuktoyaktuk\n",
      "Error: illapel\n",
      "Error: yar-sale\n",
      "Error: birigui\n",
      "Error: arkhara\n",
      "Error: las vigas\n",
      "Error: nguiu\n",
      "Error: kaitangata\n",
      "Error: nouadhibou\n",
      "Error: pingliang\n",
      "Error: faya\n",
      "Error: piacabucu\n",
      "Error: bluff\n",
      "Error: crestview\n",
      "Error: touros\n",
      "Error: whitehorse\n",
      "Error: hamilton\n",
      "Error: hobart\n",
      "Error: kedougou\n",
      "Error: qaanaaq\n",
      "Error: rio tercero\n",
      "Error: tumannyy\n",
      "Error: marsa matruh\n",
      "Error: jamestown\n",
      "Error: busselton\n",
      "Error: coquimbo\n",
      "Error: pisco\n",
      "Error: upernavik\n",
      "Error: attawapiskat\n",
      "Error: whitianga\n",
      "Error: hermanus\n",
      "Error: antofagasta\n",
      "Error: russell\n",
      "Error: karakendzha\n",
      "Error: port elizabeth\n",
      "Error: srednekolymsk\n",
      "Error: nisia floresta\n",
      "Error: baruun-urt\n",
      "Error: puerto ayora\n",
      "Error: constitucion\n",
      "Error: sebezh\n",
      "Error: atuona\n",
      "Error: tanout\n",
      "Error: pesochnoye\n",
      "Error: dickinson\n",
      "Error: chishtian mandi\n",
      "Error: palmerston\n",
      "Error: staunton\n",
      "Error: honiara\n",
      "Error: sao filipe\n",
      "Error: rio grande\n",
      "Error: clyde river\n",
      "Error: ivanava\n",
      "Error: vila velha\n",
      "Error: boromo\n",
      "Error: evensk\n",
      "Error: yingkou\n",
      "Error: praia da vitoria\n",
      "Error: seryshevo\n",
      "Error: paamiut\n",
      "Error: coihaique\n",
      "Error: bandarbeyla\n",
      "Error: bud\n",
      "Error: ipoti\n",
      "Error: bzenec\n",
      "Error: salalah\n",
      "Error: berlevag\n",
      "Error: jeremie\n",
      "Error: hsinying\n",
      "Error: morant bay\n",
      "Error: santa cruz\n",
      "Error: minsk\n",
      "Error: rawson\n",
      "Error: dikson\n",
      "Error: waipawa\n",
      "Error: luderitz\n",
      "Error: aqtobe\n",
      "Error: caborca\n",
      "Error: severo-kurilsk\n",
      "Error: nuuk\n",
      "Error: ife\n",
      "Error: porto novo\n",
      "Error: areosa\n",
      "Error: diyarb najm\n",
      "Error: vestmannaeyjar\n",
      "Error: port lincoln\n",
      "Error: yulara\n",
      "Error: dharmadam\n",
      "Error: te anau\n",
      "Error: namibe\n",
      "Error: samarai\n",
      "Error: gold coast\n",
      "Error: jinchang\n",
      "Error: moussoro\n",
      "Error: henties bay\n",
      "Error: verkhoyansk\n",
      "Error: hualmay\n",
      "Error: galle\n",
      "Error: anadyr\n",
      "Error: jackson\n",
      "Error: svetlaya\n",
      "Error: high level\n",
      "Error: sivas\n",
      "Error: mumford\n",
      "Error: rawah\n",
      "Error: tasiilaq\n",
      "Error: thunder bay\n",
      "Error: nizhneyansk\n",
      "Error: saint anthony\n",
      "Error: numaligarh\n",
      "Error: itaituba\n",
      "Error: bilibino\n",
      "Error: lompoc\n",
      "Error: bjerkvik\n",
      "Error: vizinga\n",
      "Error: huilong\n",
      "Error: cherskiy\n",
      "Error: vaitupu\n",
      "Error: puerto rico\n",
      "Error: champerico\n",
      "Error: murray bridge\n",
      "Error: ekibastuz\n",
      "Error: novyy urengoy\n",
      "Error: tumbes\n",
      "Error: cavalcante\n",
      "Error: scarborough\n",
      "Error: lata\n",
      "Error: zolotinka\n",
      "Error: khandyga\n",
      "Error: abu samrah\n",
      "Error: olga\n",
      "Error: portland\n",
      "Error: kavaratti\n",
      "Error: manta\n",
      "Error: hendijan\n",
      "Error: provideniya\n",
      "Error: sibu\n",
      "Error: amderma\n",
      "Error: ilo\n",
      "Error: hambantota\n",
      "Error: georgetown\n",
      "Error: nelson bay\n",
      "Error: san patricio\n",
      "Error: san rafael\n",
      "Error: mys shmidta\n",
      "Error: hurup\n",
      "Error: illoqqortoormiut\n",
      "Error: ahipara\n",
      "Error: tadine\n",
      "Error: karpogory\n",
      "Error: nocupetaro\n",
      "Error: ostersund\n",
      "Error: hasaki\n",
      "Error: alice town\n",
      "Error: axim\n",
      "Error: byron bay\n",
      "Error: majene\n",
      "Error: jalu\n",
      "Error: mnogovershinnyy\n",
      "Error: huangmei\n",
      "Error: broome\n",
      "Error: manggar\n",
      "Error: manzhouli\n",
      "Error: la palma\n",
      "Error: kaili\n",
      "Error: starosubkhangulovo\n",
      "Error: ossora\n",
      "Error: prince rupert\n",
      "Error: hilo\n",
      "Error: marsh harbour\n",
      "Error: colares\n",
      "Error: fortuna\n",
      "Error: baykit\n",
      "Error: maltahohe\n",
      "Error: matagami\n",
      "Error: urubicha\n",
      "Error: dingle\n",
      "Error: panguna\n",
      "Error: kasongo-lunda\n",
      "Error: palabuhanratu\n",
      "Error: yairipok\n",
      "Error: bengkulu\n",
      "Error: kahului\n",
      "Error: bundi\n",
      "Error: kambove\n",
      "Error: cap malheureux\n",
      "Error: ponta do sol\n",
      "Error: sitka\n"
     ]
    }
   ],
   "source": [
    "url = \"http://api.openweathermap.org/data/2.5/weather?\"\n",
    "\n",
    "# build query and request results\n",
    "cities_found = []\n",
    "lat = []\n",
    "lng = []\n",
    "temp = []\n",
    "humidity = []\n",
    "clouds = []\n",
    "speed = []\n",
    "country = []\n",
    "dt = []\n",
    "\n",
    "\n",
    "for i, city in enumerate(cities):\n",
    "    \n",
    "    query_url = url + 'appid=' + weather_api_key + '&units=imperial' + '&q=' + city\n",
    "    \n",
    "    try:\n",
    "        \n",
    "        # Get weather data\n",
    "        weather_response = requests.get(query_url)\n",
    "        weather_json = weather_response.json()\n",
    "        #print(weather_json)\n",
    "\n",
    "        lat.append(weather_json['coord']['lat'])\n",
    "        lng.append(weather_json['coord']['lon'])\n",
    "        temp.append(weather_json['main']['temp'])\n",
    "        humidity.append(weather_json['main']['humidity'])\n",
    "        clouds.append(weather_json['clouds']['all'])\n",
    "        speed.append(weather_json['wind']['speed'])\n",
    "        country.append(weather_json['sys']['country'])\n",
    "        dt.append(weather_json['dt'])\n",
    "\n",
    "        cities_found.append(city)\n",
    "\n",
    "        # Get the temperature from the response\n",
    "        #print(f\"The weather API responded with: {weather_json}.\")\n",
    "        print(f'Processing record {i + 1} of Set 1 | {city}')\n",
    "    \n",
    "    except:\n",
    "        print(\"Error: \" + city)"
   ]
  },
  {
   "cell_type": "code",
   "execution_count": null,
   "metadata": {},
   "outputs": [],
   "source": [
    "weather_dict = {\n",
    "    \"City\": cities_found,\n",
    "    \"Latitude\": lat,\n",
    "    'Longitude': lng,\n",
    "    \"Max Temperature\": temp,\n",
    "    'Humidity': humidity,\n",
    "    'Cloudiness': clouds,\n",
    "    'Wind Speed': speed,\n",
    "    'Country': country,\n",
    "    'Date': dt\n",
    "    \n",
    "}\n",
    "weather_data = pd.DataFrame(weather_dict)\n",
    "weather_data"
   ]
  },
  {
   "cell_type": "markdown",
   "metadata": {},
   "source": [
    "### Convert Raw Data to DataFrame\n",
    "* Export the city data into a .csv.\n",
    "* Display the DataFrame"
   ]
  },
  {
   "cell_type": "code",
   "execution_count": null,
   "metadata": {},
   "outputs": [],
   "source": [
    "weather_data.to_csv(\n",
    "    path_or_buf = \"../output_data/cities.csv\"\n",
    ")\n",
    "weather_data.head()"
   ]
  },
  {
   "cell_type": "code",
   "execution_count": null,
   "metadata": {},
   "outputs": [],
   "source": [
    "weather_data_df.to_csv(\"../output_data/weather_data.csv\", index = False)\n"
   ]
  },
  {
   "cell_type": "markdown",
   "metadata": {},
   "source": [
    "## Inspect the data and remove the cities where the humidity > 100%.\n",
    "----\n",
    "Skip this step if there are no cities that have humidity > 100%. "
   ]
  },
  {
   "cell_type": "code",
   "execution_count": null,
   "metadata": {},
   "outputs": [],
   "source": [
    "print(f\"The maximum humidity for the cities in the dataframe is {weather_data['Humidity'].max()}\")\n"
   ]
  },
  {
   "cell_type": "code",
   "execution_count": null,
   "metadata": {},
   "outputs": [],
   "source": [
    "#  Get the indices of cities that have humidity over 100%.\n",
    "humidity_data_df = weather_data_df.loc[(weather_data_df['Humidity'] >= 100)]\n",
    "humidity_data_df"
   ]
  },
  {
   "cell_type": "code",
   "execution_count": null,
   "metadata": {},
   "outputs": [],
   "source": [
    "# Make a new DataFrame equal to the city data to drop all humidity outliers by index.\n",
    "# Passing \"inplace=False\" will make a copy of the city_data DataFrame, which we call \"clean_city_data\".\n",
    "\n",
    "clean_city_data = weather_data.drop([(weather_data['Humidity'] >= 100)])\n",
    "clean_city_data"
   ]
  },
  {
   "cell_type": "code",
   "execution_count": null,
   "metadata": {},
   "outputs": [],
   "source": [
    "\n"
   ]
  },
  {
   "cell_type": "markdown",
   "metadata": {},
   "source": [
    "## Plotting the Data\n",
    "* Use proper labeling of the plots using plot titles (including date of analysis) and axes labels.\n",
    "* Save the plotted figures as .pngs."
   ]
  },
  {
   "cell_type": "markdown",
   "metadata": {},
   "source": [
    "## Latitude vs. Temperature Plot"
   ]
  },
  {
   "cell_type": "code",
   "execution_count": null,
   "metadata": {
    "scrolled": true
   },
   "outputs": [],
   "source": [
    "plt.title('City Latitude vs. Max Temperature (F) (04/25/22)')\n",
    "plt.xlabel('Latitude')\n",
    "plt.ylabel('Max Temperature (F)')\n",
    "\n",
    "x1 = lat\n",
    "y1 = temp\n",
    "\n",
    "plt.scatter(x1, y1)"
   ]
  },
  {
   "cell_type": "markdown",
   "metadata": {},
   "source": [
    "## Latitude vs. Humidity Plot"
   ]
  },
  {
   "cell_type": "code",
   "execution_count": null,
   "metadata": {},
   "outputs": [],
   "source": [
    "plt.title('City Latitude vs. Humidity (%) (04/25/22)')\n",
    "plt.xlabel('Latitude')\n",
    "plt.ylabel('Humidity (%)')\n",
    "\n",
    "x2 = lat\n",
    "y2 = humidity\n",
    "\n",
    "plt.scatter(x2, y2)"
   ]
  },
  {
   "cell_type": "markdown",
   "metadata": {},
   "source": [
    "## Latitude vs. Cloudiness Plot"
   ]
  },
  {
   "cell_type": "code",
   "execution_count": null,
   "metadata": {},
   "outputs": [],
   "source": [
    "plt.title('City Latitude vs. Cloudiness (%) (04/25/22)')\n",
    "plt.xlabel('Latitude')\n",
    "plt.ylabel('Cloudiness (%)')\n",
    "\n",
    "x3 = lat\n",
    "y3 = clouds\n",
    "\n",
    "plt.scatter(x3, y3)"
   ]
  },
  {
   "cell_type": "markdown",
   "metadata": {},
   "source": [
    "## Latitude vs. Wind Speed Plot"
   ]
  },
  {
   "cell_type": "code",
   "execution_count": null,
   "metadata": {},
   "outputs": [],
   "source": [
    "plt.title('City Latitude vs. Wind Speed (mph) (04/25/22)')\n",
    "plt.xlabel('Latitude')\n",
    "plt.ylabel('Wind Speed (mph)')\n",
    "\n",
    "x4 = lat\n",
    "y4 = speed\n",
    "\n",
    "plt.scatter(x4, y4)"
   ]
  },
  {
   "cell_type": "markdown",
   "metadata": {},
   "source": [
    "## Linear Regression"
   ]
  },
  {
   "cell_type": "code",
   "execution_count": null,
   "metadata": {},
   "outputs": [],
   "source": [
    "lat_north = weather_data.loc[weather_data['Latitude'] > 0]\n",
    "lat_south = weather_data.loc[weather_data['Latitude'] < 0]"
   ]
  },
  {
   "cell_type": "markdown",
   "metadata": {},
   "source": [
    "####  Northern Hemisphere - Max Temp vs. Latitude Linear Regression"
   ]
  },
  {
   "cell_type": "code",
   "execution_count": null,
   "metadata": {},
   "outputs": [],
   "source": [
    "plt.title('Northern Hemisphere - City Latitude vs. Max Temperature (F) (04/25/22)')\n",
    "plt.xlabel('Latitude')\n",
    "plt.ylabel('Max Temperature (F)')\n",
    "\n",
    "x5 = lat_north['Latitude']\n",
    "y5 = lat_north['Max Temperature']\n",
    "\n",
    "plt.scatter(x5, y5)\n",
    "\n",
    "(slope, intercept, r, p, se) = linregress(x5, y5)\n",
    "regress_values = x5 * slope + intercept\n",
    "line_eq = \"y = \" + str(round(slope,2)) + \"x + \" + str(round(intercept,2))\n",
    "\n",
    "print(f\"The value of r-squared is: {r**2}\")\n",
    "plt.plot(x5,regress_values,\"r-\")\n",
    "plt.annotate(line_eq,(0,50),fontsize=15,color=\"red\")"
   ]
  },
  {
   "cell_type": "markdown",
   "metadata": {},
   "source": [
    "####  Southern Hemisphere - Max Temp vs. Latitude Linear Regression"
   ]
  },
  {
   "cell_type": "code",
   "execution_count": null,
   "metadata": {},
   "outputs": [],
   "source": [
    "plt.title('Southern Hemisphere - City Latitude vs. Max Temperature (F) (04/25/22)')\n",
    "plt.xlabel('Latitude')\n",
    "plt.ylabel('Max Temperature (F)')\n",
    "\n",
    "x6 = lat_south['Latitude']\n",
    "y6 = lat_south['Max Temperature']\n",
    "\n",
    "plt.scatter(x6, y6)\n",
    "\n",
    "(slope, intercept, r, p, se) = linregress(x6, y6)\n",
    "regress_values = x6 * slope + intercept\n",
    "line_eq = \"y = \" + str(round(slope,2)) + \"x + \" + str(round(intercept,2))\n",
    "\n",
    "print(f\"The value of r-squared is: {r**2}\")\n",
    "plt.plot(x6,regress_values,\"r-\")\n",
    "plt.annotate(line_eq,(0,50),fontsize=15,color=\"red\")"
   ]
  },
  {
   "cell_type": "markdown",
   "metadata": {},
   "source": [
    "####  Northern Hemisphere - Humidity (%) vs. Latitude Linear Regression"
   ]
  },
  {
   "cell_type": "code",
   "execution_count": null,
   "metadata": {},
   "outputs": [],
   "source": [
    "plt.title('Northern Hemisphere - City Latitude vs. Humidity (%) (04/25/22)')\n",
    "plt.xlabel('Latitude')\n",
    "plt.ylabel('Humidity (%)')\n",
    "\n",
    "x7 = lat_north['Latitude']\n",
    "y7 = lat_north['Humidity']\n",
    "\n",
    "plt.scatter(x7, y7)\n",
    "\n",
    "(slope, intercept, r, p, se) = linregress(x7, y7)\n",
    "regress_values = x7 * slope + intercept\n",
    "line_eq = \"y = \" + str(round(slope,2)) + \"x + \" + str(round(intercept,2))\n",
    "\n",
    "print(f\"The value of r-squared is: {r**2}\")\n",
    "plt.plot(x7,regress_values,\"r-\")\n",
    "plt.annotate(line_eq,(0,50),fontsize=15,color=\"red\")"
   ]
  },
  {
   "cell_type": "markdown",
   "metadata": {},
   "source": [
    "####  Southern Hemisphere - Humidity (%) vs. Latitude Linear Regression"
   ]
  },
  {
   "cell_type": "code",
   "execution_count": null,
   "metadata": {},
   "outputs": [],
   "source": [
    "plt.title('Southern Hemisphere - City Latitude vs. Humidity (%) (04/25/22)')\n",
    "plt.xlabel('Latitude')\n",
    "plt.ylabel('Humidity (%)')\n",
    "\n",
    "x8 = lat_south['Latitude']\n",
    "y8 = lat_south['Humidity']\n",
    "\n",
    "plt.scatter(x8, y8)\n",
    "\n",
    "(slope, intercept, r, p, se) = linregress(x8, y8)\n",
    "regress_values = x8 * slope + intercept\n",
    "line_eq = \"y = \" + str(round(slope,2)) + \"x + \" + str(round(intercept,2))\n",
    "\n",
    "print(f\"The value of r-squared is: {r**2}\")\n",
    "plt.plot(x8,regress_values,\"r-\")\n",
    "plt.annotate(line_eq,(0,50),fontsize=15,color=\"red\")"
   ]
  },
  {
   "cell_type": "markdown",
   "metadata": {},
   "source": [
    "####  Northern Hemisphere - Cloudiness (%) vs. Latitude Linear Regression"
   ]
  },
  {
   "cell_type": "code",
   "execution_count": null,
   "metadata": {},
   "outputs": [],
   "source": [
    "plt.title('Northern Hemisphere - City Latitude vs. Cloudiness (%) (04/25/22)')\n",
    "plt.xlabel('Latitude')\n",
    "plt.ylabel('Cloudiness (%)')\n",
    "\n",
    "x9 = lat_north['Latitude']\n",
    "y9 = lat_north['Cloudiness']\n",
    "\n",
    "plt.scatter(x9, y9)\n",
    "\n",
    "(slope, intercept, r, p, se) = linregress(x9, y9)\n",
    "regress_values = x9 * slope + intercept\n",
    "line_eq = \"y = \" + str(round(slope,2)) + \"x + \" + str(round(intercept,2))\n",
    "\n",
    "print(f\"The value of r-squared is: {r**2}\")\n",
    "plt.plot(x9,regress_values,\"r-\")\n",
    "plt.annotate(line_eq,(0,50),fontsize=15,color=\"red\")"
   ]
  },
  {
   "cell_type": "markdown",
   "metadata": {},
   "source": [
    "####  Southern Hemisphere - Cloudiness (%) vs. Latitude Linear Regression"
   ]
  },
  {
   "cell_type": "code",
   "execution_count": null,
   "metadata": {},
   "outputs": [],
   "source": [
    "plt.title('Southern Hemisphere - City Latitude vs. Cloudiness (%) (04/25/22)')\n",
    "plt.xlabel('Latitude')\n",
    "plt.ylabel('Cloudiness (%)')\n",
    "\n",
    "x10 = lat_south['Latitude']\n",
    "y10 = lat_south['Cloudiness']\n",
    "\n",
    "plt.scatter(x10, y10)\n",
    "\n",
    "(slope, intercept, r, p, se) = linregress(x10, y10)\n",
    "regress_values = x10 * slope + intercept\n",
    "line_eq = \"y = \" + str(round(slope,2)) + \"x + \" + str(round(intercept,2))\n",
    "\n",
    "print(f\"The value of r-squared is: {r**2}\")\n",
    "plt.plot(x10,regress_values,\"r-\")\n",
    "plt.annotate(line_eq,(0,50),fontsize=15,color=\"red\")"
   ]
  },
  {
   "cell_type": "markdown",
   "metadata": {},
   "source": [
    "####  Northern Hemisphere - Wind Speed (mph) vs. Latitude Linear Regression"
   ]
  },
  {
   "cell_type": "code",
   "execution_count": null,
   "metadata": {},
   "outputs": [],
   "source": [
    "plt.title('Northern Hemisphere - City Latitude vs. Wind Speed (mph) (04/25/22)')\n",
    "plt.xlabel('Latitude')\n",
    "plt.ylabel('Wind Speed (mph)')\n",
    "\n",
    "x11 = lat_north['Latitude']\n",
    "y11 = lat_north['Wind Speed']\n",
    "\n",
    "plt.scatter(x11, y11)\n",
    "\n",
    "(slope, intercept, r, p, se) = linregress(x11, y11)\n",
    "regress_values = x11 * slope + intercept\n",
    "line_eq = \"y = \" + str(round(slope,2)) + \"x + \" + str(round(intercept,2))\n",
    "\n",
    "print(f\"The value of r-squared is: {r**2}\")\n",
    "plt.plot(x11,regress_values,\"r-\")\n",
    "plt.annotate(line_eq,(0,50),fontsize=15,color=\"red\")"
   ]
  },
  {
   "cell_type": "markdown",
   "metadata": {},
   "source": [
    "####  Southern Hemisphere - Wind Speed (mph) vs. Latitude Linear Regression"
   ]
  },
  {
   "cell_type": "code",
   "execution_count": null,
   "metadata": {},
   "outputs": [],
   "source": [
    "plt.title('Southern Hemisphere - City Latitude vs. Wind Speed (mph) (04/25/22)')\n",
    "plt.xlabel('Latitude')\n",
    "plt.ylabel('Wind Speed (mph)')\n",
    "\n",
    "x12 = lat_south['Latitude']\n",
    "y12 = lat_south['Wind Speed']\n",
    "\n",
    "plt.scatter(x12, y12)\n",
    "\n",
    "(slope, intercept, r, p, se) = linregress(x12, y12)\n",
    "regress_values = x12 * slope + intercept\n",
    "line_eq = \"y = \" + str(round(slope,2)) + \"x + \" + str(round(intercept,2))\n",
    "\n",
    "print(f\"The value of r-squared is: {r**2}\")\n",
    "plt.plot(x12,regress_values,\"r-\")\n",
    "plt.annotate(line_eq,(0,50),fontsize=15,color=\"red\")"
   ]
  },
  {
   "cell_type": "code",
   "execution_count": null,
   "metadata": {},
   "outputs": [],
   "source": []
  }
 ],
 "metadata": {
  "anaconda-cloud": {},
  "kernel_info": {
   "name": "python3"
  },
  "kernelspec": {
   "display_name": "Python 3 (ipykernel)",
   "language": "python",
   "name": "python3"
  },
  "language_info": {
   "codemirror_mode": {
    "name": "ipython",
    "version": 3
   },
   "file_extension": ".py",
   "mimetype": "text/x-python",
   "name": "python",
   "nbconvert_exporter": "python",
   "pygments_lexer": "ipython3",
   "version": "3.9.7"
  },
  "latex_envs": {
   "LaTeX_envs_menu_present": true,
   "autoclose": false,
   "autocomplete": true,
   "bibliofile": "biblio.bib",
   "cite_by": "apalike",
   "current_citInitial": 1,
   "eqLabelWithNumbers": true,
   "eqNumInitial": 1,
   "hotkeys": {
    "equation": "Ctrl-E",
    "itemize": "Ctrl-I"
   },
   "labels_anchors": false,
   "latex_user_defs": false,
   "report_style_numbering": false,
   "user_envs_cfg": false
  },
  "nteract": {
   "version": "0.12.3"
  }
 },
 "nbformat": 4,
 "nbformat_minor": 2
}
