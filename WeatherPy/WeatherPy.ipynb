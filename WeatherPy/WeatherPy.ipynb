{
 "cells": [
  {
   "cell_type": "markdown",
   "metadata": {},
   "source": [
    "# WeatherPy\n",
    "----\n",
    "\n",
    "#### Note\n",
    "* Instructions have been included for each segment. You do not have to follow them exactly, but they are included to help you think through the steps."
   ]
  },
  {
   "cell_type": "code",
   "execution_count": 1,
   "metadata": {
    "scrolled": true
   },
   "outputs": [],
   "source": [
    "# Dependencies and Setup\n",
    "import matplotlib.pyplot as plt\n",
    "import pandas as pd\n",
    "import numpy as np\n",
    "import requests\n",
    "import time\n",
    "from scipy.stats import linregress\n",
    "\n",
    "# Import API key\n",
    "from api_keys import weather_api_key\n",
    "\n",
    "# Incorporated citipy to determine city based on latitude and longitude\n",
    "from citipy import citipy\n",
    "\n",
    "# Output File (CSV)\n",
    "output_data_file = \"output_data/cities.csv\"\n",
    "\n",
    "# Range of latitudes and longitudes\n",
    "lat_range = (-90, 90)\n",
    "lng_range = (-180, 180)"
   ]
  },
  {
   "cell_type": "markdown",
   "metadata": {},
   "source": [
    "## Generate Cities List"
   ]
  },
  {
   "cell_type": "code",
   "execution_count": 2,
   "metadata": {},
   "outputs": [
    {
     "data": {
      "text/plain": [
       "607"
      ]
     },
     "execution_count": 2,
     "metadata": {},
     "output_type": "execute_result"
    }
   ],
   "source": [
    "# List for holding lat_lngs and cities\n",
    "lat_lngs = []\n",
    "cities = []\n",
    "\n",
    "# Create a set of random lat and lng combinations\n",
    "lats = np.random.uniform(lat_range[0], lat_range[1], size=1500)\n",
    "lngs = np.random.uniform(lng_range[0], lng_range[1], size=1500)\n",
    "lat_lngs = zip(lats, lngs)\n",
    "\n",
    "# Identify nearest city for each lat, lng combination\n",
    "for lat_lng in lat_lngs:\n",
    "    city = citipy.nearest_city(lat_lng[0], lat_lng[1]).city_name\n",
    "    \n",
    "    # If the city is unique, then add it to a our cities list\n",
    "    if city not in cities:\n",
    "        cities.append(city)\n",
    "\n",
    "# Print the city count to confirm sufficient count\n",
    "len(cities)"
   ]
  },
  {
   "cell_type": "markdown",
   "metadata": {},
   "source": [
    "### Perform API Calls\n",
    "* Perform a weather check on each city using a series of successive API calls.\n",
    "* Include a print log of each city as it'sbeing processed (with the city number and city name).\n"
   ]
  },
  {
   "cell_type": "code",
   "execution_count": 3,
   "metadata": {
    "scrolled": true
   },
   "outputs": [
    {
     "name": "stdout",
     "output_type": "stream",
     "text": [
      "Processing record 1 of Set 1 | tuktoyaktuk\n",
      "Processing record 2 of Set 1 | manokwari\n",
      "Processing record 3 of Set 1 | mataura\n",
      "Processing record 4 of Set 1 | butaritari\n",
      "Processing record 5 of Set 1 | yeppoon\n",
      "Processing record 6 of Set 1 | georgetown\n",
      "Processing record 7 of Set 1 | ushuaia\n",
      "Processing record 8 of Set 1 | fortuna\n",
      "Processing record 9 of Set 1 | mwingi\n",
      "Processing record 10 of Set 1 | toora-khem\n",
      "Processing record 11 of Set 1 | ust-kut\n",
      "Processing record 12 of Set 1 | ponsacco\n",
      "Processing record 13 of Set 1 | praia da vitoria\n",
      "Processing record 14 of Set 1 | mar del plata\n",
      "Processing record 15 of Set 1 | sarangarh\n",
      "Processing record 16 of Set 1 | yulara\n",
      "Processing record 17 of Set 1 | bengkulu\n",
      "Processing record 18 of Set 1 | hofn\n",
      "Processing record 19 of Set 1 | cap malheureux\n",
      "Processing record 20 of Set 1 | lebu\n",
      "Error: illoqqortoormiut\n",
      "Processing record 22 of Set 1 | rikitea\n",
      "Processing record 23 of Set 1 | qaanaaq\n",
      "Error: sentyabrskiy\n",
      "Processing record 25 of Set 1 | tuatapere\n",
      "Processing record 26 of Set 1 | portland\n",
      "Processing record 27 of Set 1 | bredasdorp\n",
      "Processing record 28 of Set 1 | hobart\n",
      "Processing record 29 of Set 1 | dingle\n",
      "Processing record 30 of Set 1 | cape town\n",
      "Processing record 31 of Set 1 | bethel\n",
      "Processing record 32 of Set 1 | maumere\n",
      "Processing record 33 of Set 1 | wufeng\n",
      "Error: babanusah\n",
      "Processing record 35 of Set 1 | inhambane\n",
      "Processing record 36 of Set 1 | bagepalli\n",
      "Processing record 37 of Set 1 | ihosy\n",
      "Processing record 38 of Set 1 | albany\n",
      "Processing record 39 of Set 1 | hasaki\n",
      "Processing record 40 of Set 1 | hermanus\n",
      "Error: taolanaro\n",
      "Processing record 42 of Set 1 | gat\n",
      "Processing record 43 of Set 1 | carnarvon\n",
      "Processing record 44 of Set 1 | port elizabeth\n",
      "Processing record 45 of Set 1 | avarua\n",
      "Processing record 46 of Set 1 | kununurra\n",
      "Processing record 47 of Set 1 | ukiah\n",
      "Processing record 48 of Set 1 | ardabil\n",
      "Processing record 49 of Set 1 | tubuala\n",
      "Processing record 50 of Set 1 | muros\n",
      "Processing record 51 of Set 1 | busselton\n",
      "Processing record 52 of Set 1 | dikson\n",
      "Error: aflu\n",
      "Error: attawapiskat\n",
      "Error: saleaula\n",
      "Processing record 56 of Set 1 | jamestown\n",
      "Processing record 57 of Set 1 | moron\n",
      "Processing record 58 of Set 1 | provideniya\n",
      "Processing record 59 of Set 1 | punta arenas\n",
      "Processing record 60 of Set 1 | bushehr\n",
      "Processing record 61 of Set 1 | teguldet\n",
      "Processing record 62 of Set 1 | san patricio\n",
      "Processing record 63 of Set 1 | camacupa\n",
      "Processing record 64 of Set 1 | mudhol\n",
      "Processing record 65 of Set 1 | new norfolk\n",
      "Error: grand river south east\n",
      "Processing record 67 of Set 1 | alyangula\n",
      "Processing record 68 of Set 1 | victoria\n",
      "Processing record 69 of Set 1 | nyurba\n",
      "Processing record 70 of Set 1 | coquimbo\n",
      "Processing record 71 of Set 1 | loreto\n",
      "Error: bargal\n",
      "Processing record 73 of Set 1 | vila franca do campo\n",
      "Processing record 74 of Set 1 | zhigansk\n",
      "Processing record 75 of Set 1 | kodinar\n",
      "Processing record 76 of Set 1 | lata\n",
      "Processing record 77 of Set 1 | ballina\n",
      "Processing record 78 of Set 1 | puerto ayora\n",
      "Processing record 79 of Set 1 | camopi\n",
      "Processing record 80 of Set 1 | kodiak\n",
      "Processing record 81 of Set 1 | matara\n",
      "Processing record 82 of Set 1 | namibe\n",
      "Processing record 83 of Set 1 | touros\n",
      "Processing record 84 of Set 1 | yellowknife\n",
      "Error: nizhneyansk\n",
      "Processing record 86 of Set 1 | mahebourg\n",
      "Processing record 87 of Set 1 | hilo\n",
      "Processing record 88 of Set 1 | souillac\n",
      "Processing record 89 of Set 1 | walvis bay\n",
      "Processing record 90 of Set 1 | geraldton\n",
      "Processing record 91 of Set 1 | camacha\n",
      "Processing record 92 of Set 1 | calvinia\n",
      "Processing record 93 of Set 1 | te anau\n",
      "Processing record 94 of Set 1 | coahuayana\n",
      "Processing record 95 of Set 1 | vaini\n",
      "Error: amderma\n",
      "Processing record 97 of Set 1 | fasa\n",
      "Processing record 98 of Set 1 | salalah\n",
      "Processing record 99 of Set 1 | tarata\n",
      "Processing record 100 of Set 1 | jacareacanga\n",
      "Processing record 101 of Set 1 | esperance\n",
      "Processing record 102 of Set 1 | dakar\n",
      "Processing record 103 of Set 1 | port alfred\n",
      "Processing record 104 of Set 1 | newnan\n",
      "Processing record 105 of Set 1 | kahului\n",
      "Processing record 106 of Set 1 | bosaso\n",
      "Processing record 107 of Set 1 | bayog\n",
      "Processing record 108 of Set 1 | thompson\n",
      "Processing record 109 of Set 1 | atuona\n",
      "Error: toungoo\n",
      "Processing record 111 of Set 1 | douglas\n",
      "Processing record 112 of Set 1 | cairns\n",
      "Processing record 113 of Set 1 | kruisfontein\n",
      "Processing record 114 of Set 1 | marsh harbour\n",
      "Processing record 115 of Set 1 | sikonge\n",
      "Error: ondorhaan\n",
      "Error: tumannyy\n",
      "Processing record 118 of Set 1 | barrow\n",
      "Processing record 119 of Set 1 | qaqortoq\n",
      "Processing record 120 of Set 1 | kapaa\n",
      "Processing record 121 of Set 1 | jagdalpur\n",
      "Processing record 122 of Set 1 | cabo san lucas\n",
      "Processing record 123 of Set 1 | north bend\n",
      "Processing record 124 of Set 1 | puerto leguizamo\n",
      "Processing record 125 of Set 1 | bluff\n",
      "Processing record 126 of Set 1 | anadyr\n",
      "Processing record 127 of Set 1 | dwarka\n",
      "Processing record 128 of Set 1 | eenhana\n",
      "Processing record 129 of Set 1 | hun\n",
      "Processing record 130 of Set 1 | leningradskiy\n",
      "Processing record 131 of Set 1 | brae\n",
      "Processing record 132 of Set 1 | rafaela\n",
      "Processing record 133 of Set 1 | avera\n",
      "Processing record 134 of Set 1 | govindgarh\n",
      "Processing record 135 of Set 1 | vardo\n",
      "Processing record 136 of Set 1 | leshukonskoye\n",
      "Processing record 137 of Set 1 | llanes\n",
      "Processing record 138 of Set 1 | rovaniemi\n",
      "Processing record 139 of Set 1 | vila do maio\n",
      "Processing record 140 of Set 1 | belmonte\n",
      "Processing record 141 of Set 1 | acapulco\n",
      "Processing record 142 of Set 1 | upernavik\n",
      "Processing record 143 of Set 1 | ambon\n",
      "Processing record 144 of Set 1 | bima\n",
      "Processing record 145 of Set 1 | faanui\n",
      "Error: urdzhar\n",
      "Error: haibowan\n",
      "Error: samusu\n",
      "Processing record 149 of Set 1 | sur\n",
      "Processing record 150 of Set 1 | berlevag\n",
      "Processing record 151 of Set 1 | hambantota\n",
      "Processing record 152 of Set 1 | saint-philippe\n",
      "Processing record 153 of Set 1 | kungurtug\n",
      "Processing record 154 of Set 1 | oranjemund\n",
      "Error: vaitupu\n",
      "Processing record 156 of Set 1 | lavrentiya\n",
      "Processing record 157 of Set 1 | tolaga bay\n",
      "Processing record 158 of Set 1 | kasongo\n",
      "Processing record 159 of Set 1 | port hedland\n",
      "Processing record 160 of Set 1 | ust-nera\n",
      "Processing record 161 of Set 1 | puerto narino\n",
      "Processing record 162 of Set 1 | masvingo\n",
      "Error: belushya guba\n",
      "Processing record 164 of Set 1 | clyde river\n",
      "Error: ijaki\n",
      "Processing record 166 of Set 1 | ugoofaaru\n",
      "Processing record 167 of Set 1 | brest\n",
      "Processing record 168 of Set 1 | castro\n",
      "Processing record 169 of Set 1 | bridlington\n",
      "Processing record 170 of Set 1 | longyearbyen\n",
      "Processing record 171 of Set 1 | kavieng\n",
      "Processing record 172 of Set 1 | buraydah\n",
      "Processing record 173 of Set 1 | thinadhoo\n",
      "Processing record 174 of Set 1 | padang\n",
      "Processing record 175 of Set 1 | mayo\n",
      "Processing record 176 of Set 1 | port moresby\n",
      "Processing record 177 of Set 1 | saint george\n",
      "Processing record 178 of Set 1 | preobrazheniye\n",
      "Processing record 179 of Set 1 | wagga wagga\n",
      "Processing record 180 of Set 1 | teahupoo\n",
      "Processing record 181 of Set 1 | otradnoye\n",
      "Processing record 182 of Set 1 | lorengau\n",
      "Processing record 183 of Set 1 | hastings\n",
      "Error: barentsburg\n",
      "Processing record 185 of Set 1 | isabela\n",
      "Processing record 186 of Set 1 | alta floresta\n",
      "Processing record 187 of Set 1 | east london\n",
      "Processing record 188 of Set 1 | nikolskoye\n",
      "Processing record 189 of Set 1 | pimentel\n",
      "Processing record 190 of Set 1 | ust-koksa\n",
      "Processing record 191 of Set 1 | talnakh\n",
      "Processing record 192 of Set 1 | sept-iles\n",
      "Processing record 193 of Set 1 | tsiroanomandidy\n",
      "Processing record 194 of Set 1 | adrar\n",
      "Processing record 195 of Set 1 | martapura\n",
      "Error: tidore\n",
      "Processing record 197 of Set 1 | isangel\n",
      "Processing record 198 of Set 1 | vao\n",
      "Processing record 199 of Set 1 | allende\n",
      "Processing record 200 of Set 1 | tasiilaq\n",
      "Processing record 201 of Set 1 | grindavik\n",
      "Processing record 202 of Set 1 | lerwick\n",
      "Processing record 203 of Set 1 | mitsamiouli\n",
      "Processing record 204 of Set 1 | sao joao da barra\n",
      "Processing record 205 of Set 1 | bitkine\n",
      "Error: angra\n",
      "Processing record 207 of Set 1 | saryozek\n",
      "Processing record 208 of Set 1 | severo-kurilsk\n",
      "Processing record 209 of Set 1 | santa vitoria\n",
      "Processing record 210 of Set 1 | san cristobal\n"
     ]
    },
    {
     "name": "stdout",
     "output_type": "stream",
     "text": [
      "Processing record 211 of Set 1 | sangar\n",
      "Processing record 212 of Set 1 | hualmay\n",
      "Processing record 213 of Set 1 | chokurdakh\n",
      "Processing record 214 of Set 1 | puerto baquerizo moreno\n",
      "Processing record 215 of Set 1 | monze\n",
      "Processing record 216 of Set 1 | petropavlovsk-kamchatskiy\n",
      "Processing record 217 of Set 1 | angoche\n",
      "Processing record 218 of Set 1 | guerrero negro\n",
      "Processing record 219 of Set 1 | ancud\n",
      "Processing record 220 of Set 1 | katsuura\n",
      "Processing record 221 of Set 1 | kaitangata\n",
      "Processing record 222 of Set 1 | sanica\n",
      "Processing record 223 of Set 1 | byron bay\n",
      "Error: tsihombe\n",
      "Processing record 225 of Set 1 | saldanha\n",
      "Processing record 226 of Set 1 | nantucket\n",
      "Error: opobo\n",
      "Processing record 228 of Set 1 | nanortalik\n",
      "Processing record 229 of Set 1 | banda aceh\n",
      "Processing record 230 of Set 1 | panzhihua\n",
      "Processing record 231 of Set 1 | nola\n",
      "Processing record 232 of Set 1 | hokitika\n",
      "Processing record 233 of Set 1 | iquique\n",
      "Processing record 234 of Set 1 | kudeyevskiy\n",
      "Processing record 235 of Set 1 | luderitz\n",
      "Processing record 236 of Set 1 | huarmey\n",
      "Processing record 237 of Set 1 | evensk\n",
      "Processing record 238 of Set 1 | ossora\n",
      "Processing record 239 of Set 1 | kolpashevo\n",
      "Processing record 240 of Set 1 | nara\n",
      "Processing record 241 of Set 1 | santa luzia\n",
      "Processing record 242 of Set 1 | havre-saint-pierre\n",
      "Processing record 243 of Set 1 | sitka\n",
      "Processing record 244 of Set 1 | ewa beach\n",
      "Processing record 245 of Set 1 | kaeo\n",
      "Processing record 246 of Set 1 | glendive\n",
      "Processing record 247 of Set 1 | omsukchan\n",
      "Processing record 248 of Set 1 | baykit\n",
      "Processing record 249 of Set 1 | naryan-mar\n",
      "Processing record 250 of Set 1 | burnie\n",
      "Processing record 251 of Set 1 | airai\n",
      "Processing record 252 of Set 1 | torbay\n",
      "Processing record 253 of Set 1 | vernashen\n",
      "Processing record 254 of Set 1 | synya\n",
      "Processing record 255 of Set 1 | sabzevar\n",
      "Processing record 256 of Set 1 | arraial do cabo\n",
      "Processing record 257 of Set 1 | vostok\n",
      "Processing record 258 of Set 1 | rocha\n",
      "Processing record 259 of Set 1 | naze\n",
      "Processing record 260 of Set 1 | jambi\n",
      "Processing record 261 of Set 1 | hongjiang\n",
      "Processing record 262 of Set 1 | imperia\n",
      "Processing record 263 of Set 1 | killybegs\n",
      "Processing record 264 of Set 1 | zhangjiakou\n",
      "Processing record 265 of Set 1 | hithadhoo\n",
      "Processing record 266 of Set 1 | hamilton\n",
      "Processing record 267 of Set 1 | vila velha\n",
      "Processing record 268 of Set 1 | san quintin\n",
      "Processing record 269 of Set 1 | port hardy\n",
      "Processing record 270 of Set 1 | raudeberg\n",
      "Error: lolua\n",
      "Processing record 272 of Set 1 | stornoway\n",
      "Processing record 273 of Set 1 | hobyo\n",
      "Processing record 274 of Set 1 | posse\n",
      "Processing record 275 of Set 1 | hami\n",
      "Processing record 276 of Set 1 | novi iskar\n",
      "Processing record 277 of Set 1 | alcantarilla\n",
      "Processing record 278 of Set 1 | stara tura\n",
      "Processing record 279 of Set 1 | joshimath\n",
      "Processing record 280 of Set 1 | genhe\n",
      "Processing record 281 of Set 1 | nelson bay\n",
      "Processing record 282 of Set 1 | nome\n",
      "Processing record 283 of Set 1 | ust-omchug\n",
      "Error: ozgon\n",
      "Processing record 285 of Set 1 | ha tinh\n",
      "Processing record 286 of Set 1 | saint anthony\n",
      "Processing record 287 of Set 1 | norman wells\n",
      "Processing record 288 of Set 1 | valparaiso\n",
      "Processing record 289 of Set 1 | saint-joseph\n",
      "Processing record 290 of Set 1 | owando\n",
      "Processing record 291 of Set 1 | santa isabel do rio negro\n",
      "Processing record 292 of Set 1 | shaoyang\n",
      "Processing record 293 of Set 1 | axim\n",
      "Processing record 294 of Set 1 | chuy\n",
      "Processing record 295 of Set 1 | sola\n",
      "Processing record 296 of Set 1 | cincu\n",
      "Processing record 297 of Set 1 | abu samrah\n",
      "Processing record 298 of Set 1 | lazaro cardenas\n",
      "Processing record 299 of Set 1 | half moon bay\n",
      "Processing record 300 of Set 1 | buala\n",
      "Processing record 301 of Set 1 | ribeira grande\n",
      "Processing record 302 of Set 1 | japura\n",
      "Processing record 303 of Set 1 | arica\n",
      "Processing record 304 of Set 1 | bonavista\n",
      "Processing record 305 of Set 1 | chengde\n",
      "Processing record 306 of Set 1 | bartica\n",
      "Processing record 307 of Set 1 | raymondville\n",
      "Processing record 308 of Set 1 | komsomolskiy\n",
      "Processing record 309 of Set 1 | cherskiy\n",
      "Processing record 310 of Set 1 | scarborough\n",
      "Processing record 311 of Set 1 | sukumo\n",
      "Processing record 312 of Set 1 | erzincan\n",
      "Processing record 313 of Set 1 | palmer\n",
      "Processing record 314 of Set 1 | pronsk\n",
      "Processing record 315 of Set 1 | saskylakh\n",
      "Processing record 316 of Set 1 | ternate\n",
      "Processing record 317 of Set 1 | mathathane\n",
      "Error: crab hill\n",
      "Processing record 319 of Set 1 | pevek\n",
      "Processing record 320 of Set 1 | basoko\n",
      "Processing record 321 of Set 1 | tateyama\n",
      "Processing record 322 of Set 1 | tiksi\n",
      "Processing record 323 of Set 1 | javanrud\n",
      "Processing record 324 of Set 1 | roebourne\n",
      "Processing record 325 of Set 1 | cidreira\n",
      "Error: skalistyy\n",
      "Processing record 327 of Set 1 | san carlos de bariloche\n",
      "Processing record 328 of Set 1 | shieli\n",
      "Processing record 329 of Set 1 | san andres\n",
      "Processing record 330 of Set 1 | kavaratti\n",
      "Processing record 331 of Set 1 | laguna\n",
      "Processing record 332 of Set 1 | asfi\n",
      "Processing record 333 of Set 1 | haines junction\n",
      "Processing record 334 of Set 1 | egvekinot\n",
      "Processing record 335 of Set 1 | mangrol\n",
      "Processing record 336 of Set 1 | bathsheba\n",
      "Processing record 337 of Set 1 | atambua\n",
      "Processing record 338 of Set 1 | verkhoyansk\n",
      "Processing record 339 of Set 1 | ilulissat\n",
      "Processing record 340 of Set 1 | nenjiang\n",
      "Processing record 341 of Set 1 | sao filipe\n",
      "Processing record 342 of Set 1 | los llanos de aridane\n",
      "Processing record 343 of Set 1 | aljezur\n",
      "Processing record 344 of Set 1 | jiran\n",
      "Processing record 345 of Set 1 | emerald\n",
      "Processing record 346 of Set 1 | henties bay\n",
      "Processing record 347 of Set 1 | datong\n",
      "Processing record 348 of Set 1 | tacuarembo\n",
      "Processing record 349 of Set 1 | rawson\n",
      "Processing record 350 of Set 1 | sandy bay\n",
      "Processing record 351 of Set 1 | gadung\n",
      "Processing record 352 of Set 1 | pitimbu\n",
      "Processing record 353 of Set 1 | paamiut\n",
      "Processing record 354 of Set 1 | lodwar\n",
      "Error: katha\n",
      "Processing record 356 of Set 1 | marsa matruh\n",
      "Processing record 357 of Set 1 | kontagora\n",
      "Processing record 358 of Set 1 | dondo\n",
      "Processing record 359 of Set 1 | progreso\n",
      "Processing record 360 of Set 1 | isiro\n",
      "Processing record 361 of Set 1 | sisimiut\n",
      "Processing record 362 of Set 1 | klaksvik\n",
      "Processing record 363 of Set 1 | upata\n",
      "Processing record 364 of Set 1 | taoudenni\n",
      "Processing record 365 of Set 1 | serowe\n",
      "Processing record 366 of Set 1 | andenes\n",
      "Processing record 367 of Set 1 | les cayes\n",
      "Processing record 368 of Set 1 | ketchikan\n",
      "Processing record 369 of Set 1 | mastic beach\n",
      "Processing record 370 of Set 1 | tautira\n",
      "Processing record 371 of Set 1 | kattivakkam\n",
      "Processing record 372 of Set 1 | pacific grove\n",
      "Processing record 373 of Set 1 | solnechnyy\n",
      "Processing record 374 of Set 1 | namyslow\n",
      "Processing record 375 of Set 1 | leninskoye\n",
      "Processing record 376 of Set 1 | alekseyevka\n",
      "Processing record 377 of Set 1 | tomatlan\n",
      "Processing record 378 of Set 1 | ystad\n",
      "Processing record 379 of Set 1 | sitio novo do tocantins\n",
      "Processing record 380 of Set 1 | san policarpo\n",
      "Processing record 381 of Set 1 | luang prabang\n",
      "Processing record 382 of Set 1 | okhotsk\n",
      "Processing record 383 of Set 1 | port lincoln\n",
      "Error: tasbuget\n",
      "Processing record 385 of Set 1 | pareora\n",
      "Processing record 386 of Set 1 | general roca\n",
      "Processing record 387 of Set 1 | sao miguel do araguaia\n",
      "Processing record 388 of Set 1 | neuquen\n",
      "Processing record 389 of Set 1 | capao bonito\n",
      "Processing record 390 of Set 1 | teguise\n",
      "Processing record 391 of Set 1 | teya\n",
      "Processing record 392 of Set 1 | hibbing\n",
      "Processing record 393 of Set 1 | kissidougou\n",
      "Processing record 394 of Set 1 | acajutla\n",
      "Processing record 395 of Set 1 | zabol\n",
      "Processing record 396 of Set 1 | seaside\n",
      "Processing record 397 of Set 1 | penal\n",
      "Error: toliary\n",
      "Processing record 399 of Set 1 | wanxian\n",
      "Processing record 400 of Set 1 | iqaluit\n",
      "Processing record 401 of Set 1 | broome\n",
      "Processing record 402 of Set 1 | sioux lookout\n",
      "Processing record 403 of Set 1 | imbituba\n",
      "Processing record 404 of Set 1 | cayenne\n",
      "Error: cagayan de tawi-tawi\n",
      "Processing record 406 of Set 1 | freeport\n",
      "Processing record 407 of Set 1 | tarauaca\n",
      "Processing record 408 of Set 1 | saint-francois\n"
     ]
    },
    {
     "name": "stdout",
     "output_type": "stream",
     "text": [
      "Processing record 409 of Set 1 | kloulklubed\n",
      "Processing record 410 of Set 1 | ola\n",
      "Processing record 411 of Set 1 | shanghai\n",
      "Processing record 412 of Set 1 | eureka\n",
      "Processing record 413 of Set 1 | yadrin\n",
      "Processing record 414 of Set 1 | hostotipaquillo\n",
      "Processing record 415 of Set 1 | pozo colorado\n",
      "Processing record 416 of Set 1 | bahia honda\n",
      "Processing record 417 of Set 1 | gouyave\n",
      "Processing record 418 of Set 1 | alice springs\n",
      "Processing record 419 of Set 1 | quelimane\n",
      "Processing record 420 of Set 1 | jiangyou\n",
      "Error: rolim de moura\n",
      "Processing record 422 of Set 1 | beyneu\n",
      "Processing record 423 of Set 1 | college\n",
      "Processing record 424 of Set 1 | podporozhye\n",
      "Processing record 425 of Set 1 | sheffield lake\n",
      "Processing record 426 of Set 1 | payo\n",
      "Processing record 427 of Set 1 | villaviciosa\n",
      "Processing record 428 of Set 1 | namatanai\n",
      "Processing record 429 of Set 1 | wlodawa\n",
      "Processing record 430 of Set 1 | texarkana\n",
      "Processing record 431 of Set 1 | am timan\n",
      "Error: mys shmidta\n",
      "Processing record 433 of Set 1 | correntina\n",
      "Processing record 434 of Set 1 | thessalon\n",
      "Processing record 435 of Set 1 | atar\n",
      "Processing record 436 of Set 1 | golden\n",
      "Processing record 437 of Set 1 | dimona\n",
      "Processing record 438 of Set 1 | tala\n",
      "Processing record 439 of Set 1 | faya\n",
      "Processing record 440 of Set 1 | parnamirim\n",
      "Processing record 441 of Set 1 | necochea\n",
      "Processing record 442 of Set 1 | xichang\n",
      "Processing record 443 of Set 1 | alofi\n",
      "Processing record 444 of Set 1 | fairbanks\n",
      "Processing record 445 of Set 1 | torit\n",
      "Processing record 446 of Set 1 | wajir\n",
      "Processing record 447 of Set 1 | zaragoza\n",
      "Processing record 448 of Set 1 | araguaina\n",
      "Processing record 449 of Set 1 | abha\n",
      "Processing record 450 of Set 1 | yerbogachen\n",
      "Processing record 451 of Set 1 | port-gentil\n",
      "Error: mutsamudu\n",
      "Processing record 453 of Set 1 | macas\n",
      "Processing record 454 of Set 1 | la sarre\n",
      "Processing record 455 of Set 1 | port keats\n",
      "Processing record 456 of Set 1 | ambilobe\n",
      "Processing record 457 of Set 1 | plettenberg bay\n",
      "Processing record 458 of Set 1 | hervey bay\n",
      "Processing record 459 of Set 1 | kapit\n",
      "Processing record 460 of Set 1 | lasa\n",
      "Processing record 461 of Set 1 | maxixe\n",
      "Processing record 462 of Set 1 | vasto\n",
      "Processing record 463 of Set 1 | pochutla\n",
      "Processing record 464 of Set 1 | verkhnyaya inta\n",
      "Processing record 465 of Set 1 | kudahuvadhoo\n",
      "Processing record 466 of Set 1 | bouna\n",
      "Error: maloshuyka\n",
      "Processing record 468 of Set 1 | ponta do sol\n",
      "Processing record 469 of Set 1 | lompoc\n",
      "Processing record 470 of Set 1 | togur\n",
      "Processing record 471 of Set 1 | srednekolymsk\n",
      "Processing record 472 of Set 1 | roald\n",
      "Error: umzimvubu\n",
      "Error: sorvag\n",
      "Processing record 475 of Set 1 | black river\n",
      "Processing record 476 of Set 1 | satipo\n",
      "Processing record 477 of Set 1 | northam\n",
      "Processing record 478 of Set 1 | varkkallai\n",
      "Processing record 479 of Set 1 | kansanshi\n",
      "Processing record 480 of Set 1 | santa rosa\n",
      "Processing record 481 of Set 1 | wilmington\n",
      "Processing record 482 of Set 1 | tomari\n",
      "Processing record 483 of Set 1 | bad liebenwerda\n",
      "Processing record 484 of Set 1 | fukuma\n",
      "Processing record 485 of Set 1 | nioro\n",
      "Processing record 486 of Set 1 | mercedes\n",
      "Processing record 487 of Set 1 | karpogory\n",
      "Processing record 488 of Set 1 | sorland\n",
      "Error: tabiauea\n",
      "Processing record 490 of Set 1 | kaifeng\n",
      "Processing record 491 of Set 1 | bambous virieux\n",
      "Processing record 492 of Set 1 | miyako\n",
      "Processing record 493 of Set 1 | derzhavinsk\n",
      "Processing record 494 of Set 1 | codrington\n",
      "Processing record 495 of Set 1 | shelburne\n",
      "Processing record 496 of Set 1 | khani\n",
      "Processing record 497 of Set 1 | balad\n",
      "Processing record 498 of Set 1 | kedzierzyn-kozle\n",
      "Processing record 499 of Set 1 | itoman\n",
      "Processing record 500 of Set 1 | khatanga\n",
      "Processing record 501 of Set 1 | alindao\n",
      "Processing record 502 of Set 1 | erenhot\n",
      "Processing record 503 of Set 1 | san lorenzo\n",
      "Processing record 504 of Set 1 | la ronge\n",
      "Processing record 505 of Set 1 | turayf\n",
      "Processing record 506 of Set 1 | caravelas\n",
      "Error: port-de-paix\n",
      "Error: utiroa\n",
      "Processing record 509 of Set 1 | shahreza\n",
      "Processing record 510 of Set 1 | weston\n",
      "Processing record 511 of Set 1 | moyale\n",
      "Processing record 512 of Set 1 | beringovskiy\n",
      "Processing record 513 of Set 1 | araouane\n",
      "Processing record 514 of Set 1 | grants pass\n",
      "Processing record 515 of Set 1 | salamiyah\n",
      "Processing record 516 of Set 1 | moose factory\n",
      "Processing record 517 of Set 1 | asau\n",
      "Processing record 518 of Set 1 | senanga\n",
      "Processing record 519 of Set 1 | cabedelo\n",
      "Processing record 520 of Set 1 | birpur\n",
      "Processing record 521 of Set 1 | timbiqui\n",
      "Processing record 522 of Set 1 | sao jose da coroa grande\n",
      "Processing record 523 of Set 1 | altay\n",
      "Processing record 524 of Set 1 | waitara\n",
      "Processing record 525 of Set 1 | nago\n",
      "Error: paradwip\n",
      "Processing record 527 of Set 1 | odienne\n",
      "Processing record 528 of Set 1 | portmore\n",
      "Processing record 529 of Set 1 | homestead\n",
      "Processing record 530 of Set 1 | spassk-dalniy\n",
      "Processing record 531 of Set 1 | charters towers\n",
      "Processing record 532 of Set 1 | america dourada\n",
      "Processing record 533 of Set 1 | baniachang\n",
      "Processing record 534 of Set 1 | whyalla\n",
      "Processing record 535 of Set 1 | bilibino\n",
      "Processing record 536 of Set 1 | atasu\n",
      "Processing record 537 of Set 1 | velikiy ustyug\n",
      "Error: palabuhanratu\n",
      "Processing record 539 of Set 1 | mantua\n",
      "Processing record 540 of Set 1 | mulchen\n",
      "Processing record 541 of Set 1 | columbus\n",
      "Processing record 542 of Set 1 | atherton\n",
      "Error: ivajlovgrad\n",
      "Processing record 544 of Set 1 | quatre cocos\n",
      "Processing record 545 of Set 1 | itarema\n",
      "Processing record 546 of Set 1 | kamaishi\n",
      "Processing record 547 of Set 1 | udachnyy\n",
      "Processing record 548 of Set 1 | hit\n",
      "Processing record 549 of Set 1 | rozhyshche\n",
      "Processing record 550 of Set 1 | brigantine\n",
      "Processing record 551 of Set 1 | tahe\n",
      "Processing record 552 of Set 1 | kiunga\n",
      "Processing record 553 of Set 1 | bonthe\n",
      "Processing record 554 of Set 1 | muisne\n",
      "Processing record 555 of Set 1 | cordoba\n",
      "Processing record 556 of Set 1 | luancheng\n",
      "Processing record 557 of Set 1 | bobrovka\n",
      "Processing record 558 of Set 1 | kyaikto\n",
      "Processing record 559 of Set 1 | semirara\n",
      "Processing record 560 of Set 1 | nabire\n",
      "Processing record 561 of Set 1 | rognan\n",
      "Processing record 562 of Set 1 | tulum\n",
      "Processing record 563 of Set 1 | coihaique\n",
      "Processing record 564 of Set 1 | mangaluru\n",
      "Error: lalomanu\n",
      "Processing record 566 of Set 1 | madison heights\n",
      "Processing record 567 of Set 1 | kariba\n",
      "Processing record 568 of Set 1 | atakpame\n",
      "Processing record 569 of Set 1 | jalu\n",
      "Processing record 570 of Set 1 | ostersund\n",
      "Error: solsvik\n",
      "Processing record 572 of Set 1 | zeya\n",
      "Processing record 573 of Set 1 | goderich\n",
      "Processing record 574 of Set 1 | thouars\n",
      "Processing record 575 of Set 1 | umm kaddadah\n",
      "Processing record 576 of Set 1 | novosergiyevka\n",
      "Processing record 577 of Set 1 | narsaq\n",
      "Processing record 578 of Set 1 | tommot\n",
      "Processing record 579 of Set 1 | aklavik\n",
      "Processing record 580 of Set 1 | korla\n",
      "Processing record 581 of Set 1 | desert hot springs\n",
      "Processing record 582 of Set 1 | aksarka\n",
      "Processing record 583 of Set 1 | xai-xai\n",
      "Processing record 584 of Set 1 | lamu\n",
      "Processing record 585 of Set 1 | poquoson\n",
      "Processing record 586 of Set 1 | bulgan\n",
      "Error: meyungs\n",
      "Processing record 588 of Set 1 | vitim\n",
      "Processing record 589 of Set 1 | westport\n",
      "Processing record 590 of Set 1 | nemuro\n",
      "Processing record 591 of Set 1 | mount gambier\n",
      "Processing record 592 of Set 1 | bauchi\n",
      "Processing record 593 of Set 1 | iranshahr\n",
      "Processing record 594 of Set 1 | chernyshevskiy\n",
      "Processing record 595 of Set 1 | vermilion\n",
      "Processing record 596 of Set 1 | broken hill\n",
      "Processing record 597 of Set 1 | havoysund\n",
      "Processing record 598 of Set 1 | la palma\n",
      "Processing record 599 of Set 1 | kapoeta\n",
      "Processing record 600 of Set 1 | maniitsoq\n",
      "Processing record 601 of Set 1 | krasnoye-na-volge\n",
      "Processing record 602 of Set 1 | jibuti\n",
      "Processing record 603 of Set 1 | daitari\n",
      "Processing record 604 of Set 1 | smithers\n",
      "Processing record 605 of Set 1 | neiafu\n",
      "Processing record 606 of Set 1 | orlik\n",
      "Processing record 607 of Set 1 | trairi\n"
     ]
    }
   ],
   "source": [
    "url = \"http://api.openweathermap.org/data/2.5/weather?\"\n",
    "\n",
    "# build query and request results\n",
    "cities_found = []\n",
    "lat = []\n",
    "lng = []\n",
    "temp = []\n",
    "humidity = []\n",
    "clouds = []\n",
    "speed = []\n",
    "country = []\n",
    "dt = []\n",
    "\n",
    "\n",
    "for i, city in enumerate(cities):\n",
    "    \n",
    "    query_url = url + 'appid=' + weather_api_key + '&units=imperial' + '&q=' + city\n",
    "    \n",
    "    try:\n",
    "        \n",
    "        # Get weather data\n",
    "        weather_response = requests.get(query_url)\n",
    "        weather_json = weather_response.json()\n",
    "        #print(weather_json)\n",
    "\n",
    "        lat.append(weather_json['coord']['lat'])\n",
    "        lng.append(weather_json['coord']['lon'])\n",
    "        temp.append(weather_json['main']['temp'])\n",
    "        humidity.append(weather_json['main']['humidity'])\n",
    "        clouds.append(weather_json['clouds']['all'])\n",
    "        speed.append(weather_json['wind']['speed'])\n",
    "        country.append(weather_json['sys']['country'])\n",
    "        dt.append(weather_json['dt'])\n",
    "\n",
    "        cities_found.append(city)\n",
    "\n",
    "        # Get the temperature from the response\n",
    "        #print(f\"The weather API responded with: {weather_json}.\")\n",
    "        print(f'Processing record {i + 1} of Set 1 | {city}')\n",
    "    \n",
    "    except:\n",
    "        print(\"Error: \" + city)"
   ]
  },
  {
   "cell_type": "code",
   "execution_count": 4,
   "metadata": {},
   "outputs": [
    {
     "data": {
      "text/html": [
       "<div>\n",
       "<style scoped>\n",
       "    .dataframe tbody tr th:only-of-type {\n",
       "        vertical-align: middle;\n",
       "    }\n",
       "\n",
       "    .dataframe tbody tr th {\n",
       "        vertical-align: top;\n",
       "    }\n",
       "\n",
       "    .dataframe thead th {\n",
       "        text-align: right;\n",
       "    }\n",
       "</style>\n",
       "<table border=\"1\" class=\"dataframe\">\n",
       "  <thead>\n",
       "    <tr style=\"text-align: right;\">\n",
       "      <th></th>\n",
       "      <th>City</th>\n",
       "      <th>Latitude</th>\n",
       "      <th>Longitude</th>\n",
       "      <th>Max Temperature</th>\n",
       "      <th>Humidity</th>\n",
       "      <th>Cloudiness</th>\n",
       "      <th>Wind Speed</th>\n",
       "      <th>Country</th>\n",
       "      <th>Date</th>\n",
       "    </tr>\n",
       "  </thead>\n",
       "  <tbody>\n",
       "    <tr>\n",
       "      <th>0</th>\n",
       "      <td>tuktoyaktuk</td>\n",
       "      <td>69.4541</td>\n",
       "      <td>-133.0374</td>\n",
       "      <td>39.20</td>\n",
       "      <td>93</td>\n",
       "      <td>40</td>\n",
       "      <td>10.36</td>\n",
       "      <td>CA</td>\n",
       "      <td>1662703151</td>\n",
       "    </tr>\n",
       "    <tr>\n",
       "      <th>1</th>\n",
       "      <td>manokwari</td>\n",
       "      <td>-0.8667</td>\n",
       "      <td>134.0833</td>\n",
       "      <td>82.29</td>\n",
       "      <td>73</td>\n",
       "      <td>100</td>\n",
       "      <td>5.12</td>\n",
       "      <td>ID</td>\n",
       "      <td>1662703365</td>\n",
       "    </tr>\n",
       "    <tr>\n",
       "      <th>2</th>\n",
       "      <td>mataura</td>\n",
       "      <td>-46.1927</td>\n",
       "      <td>168.8643</td>\n",
       "      <td>45.91</td>\n",
       "      <td>89</td>\n",
       "      <td>32</td>\n",
       "      <td>2.51</td>\n",
       "      <td>NZ</td>\n",
       "      <td>1662703365</td>\n",
       "    </tr>\n",
       "    <tr>\n",
       "      <th>3</th>\n",
       "      <td>butaritari</td>\n",
       "      <td>3.0707</td>\n",
       "      <td>172.7902</td>\n",
       "      <td>81.70</td>\n",
       "      <td>76</td>\n",
       "      <td>91</td>\n",
       "      <td>15.35</td>\n",
       "      <td>KI</td>\n",
       "      <td>1662703366</td>\n",
       "    </tr>\n",
       "    <tr>\n",
       "      <th>4</th>\n",
       "      <td>yeppoon</td>\n",
       "      <td>-23.1333</td>\n",
       "      <td>150.7333</td>\n",
       "      <td>73.18</td>\n",
       "      <td>80</td>\n",
       "      <td>92</td>\n",
       "      <td>9.19</td>\n",
       "      <td>AU</td>\n",
       "      <td>1662703366</td>\n",
       "    </tr>\n",
       "    <tr>\n",
       "      <th>...</th>\n",
       "      <td>...</td>\n",
       "      <td>...</td>\n",
       "      <td>...</td>\n",
       "      <td>...</td>\n",
       "      <td>...</td>\n",
       "      <td>...</td>\n",
       "      <td>...</td>\n",
       "      <td>...</td>\n",
       "      <td>...</td>\n",
       "    </tr>\n",
       "    <tr>\n",
       "      <th>554</th>\n",
       "      <td>daitari</td>\n",
       "      <td>21.1000</td>\n",
       "      <td>85.7500</td>\n",
       "      <td>84.99</td>\n",
       "      <td>67</td>\n",
       "      <td>98</td>\n",
       "      <td>15.64</td>\n",
       "      <td>IN</td>\n",
       "      <td>1662703563</td>\n",
       "    </tr>\n",
       "    <tr>\n",
       "      <th>555</th>\n",
       "      <td>smithers</td>\n",
       "      <td>54.7804</td>\n",
       "      <td>-127.1743</td>\n",
       "      <td>46.06</td>\n",
       "      <td>91</td>\n",
       "      <td>18</td>\n",
       "      <td>3.15</td>\n",
       "      <td>CA</td>\n",
       "      <td>1662703563</td>\n",
       "    </tr>\n",
       "    <tr>\n",
       "      <th>556</th>\n",
       "      <td>neiafu</td>\n",
       "      <td>-18.6500</td>\n",
       "      <td>-173.9833</td>\n",
       "      <td>77.68</td>\n",
       "      <td>78</td>\n",
       "      <td>20</td>\n",
       "      <td>6.91</td>\n",
       "      <td>TO</td>\n",
       "      <td>1662703564</td>\n",
       "    </tr>\n",
       "    <tr>\n",
       "      <th>557</th>\n",
       "      <td>orlik</td>\n",
       "      <td>52.5178</td>\n",
       "      <td>99.8250</td>\n",
       "      <td>55.27</td>\n",
       "      <td>73</td>\n",
       "      <td>66</td>\n",
       "      <td>11.48</td>\n",
       "      <td>RU</td>\n",
       "      <td>1662703564</td>\n",
       "    </tr>\n",
       "    <tr>\n",
       "      <th>558</th>\n",
       "      <td>trairi</td>\n",
       "      <td>-3.2778</td>\n",
       "      <td>-39.2689</td>\n",
       "      <td>76.80</td>\n",
       "      <td>79</td>\n",
       "      <td>9</td>\n",
       "      <td>13.98</td>\n",
       "      <td>BR</td>\n",
       "      <td>1662703411</td>\n",
       "    </tr>\n",
       "  </tbody>\n",
       "</table>\n",
       "<p>559 rows × 9 columns</p>\n",
       "</div>"
      ],
      "text/plain": [
       "            City  Latitude  Longitude  Max Temperature  Humidity  Cloudiness  \\\n",
       "0    tuktoyaktuk   69.4541  -133.0374            39.20        93          40   \n",
       "1      manokwari   -0.8667   134.0833            82.29        73         100   \n",
       "2        mataura  -46.1927   168.8643            45.91        89          32   \n",
       "3     butaritari    3.0707   172.7902            81.70        76          91   \n",
       "4        yeppoon  -23.1333   150.7333            73.18        80          92   \n",
       "..           ...       ...        ...              ...       ...         ...   \n",
       "554      daitari   21.1000    85.7500            84.99        67          98   \n",
       "555     smithers   54.7804  -127.1743            46.06        91          18   \n",
       "556       neiafu  -18.6500  -173.9833            77.68        78          20   \n",
       "557        orlik   52.5178    99.8250            55.27        73          66   \n",
       "558       trairi   -3.2778   -39.2689            76.80        79           9   \n",
       "\n",
       "     Wind Speed Country        Date  \n",
       "0         10.36      CA  1662703151  \n",
       "1          5.12      ID  1662703365  \n",
       "2          2.51      NZ  1662703365  \n",
       "3         15.35      KI  1662703366  \n",
       "4          9.19      AU  1662703366  \n",
       "..          ...     ...         ...  \n",
       "554       15.64      IN  1662703563  \n",
       "555        3.15      CA  1662703563  \n",
       "556        6.91      TO  1662703564  \n",
       "557       11.48      RU  1662703564  \n",
       "558       13.98      BR  1662703411  \n",
       "\n",
       "[559 rows x 9 columns]"
      ]
     },
     "execution_count": 4,
     "metadata": {},
     "output_type": "execute_result"
    }
   ],
   "source": [
    "weather_dict = {\n",
    "    \"City\": cities_found,\n",
    "    \"Latitude\": lat,\n",
    "    'Longitude': lng,\n",
    "    \"Max Temperature\": temp,\n",
    "    'Humidity': humidity,\n",
    "    'Cloudiness': clouds,\n",
    "    'Wind Speed': speed,\n",
    "    'Country': country,\n",
    "    'Date': dt\n",
    "    \n",
    "}\n",
    "weather_data = pd.DataFrame(weather_dict)\n",
    "weather_data"
   ]
  },
  {
   "cell_type": "markdown",
   "metadata": {},
   "source": [
    "### Convert Raw Data to DataFrame\n",
    "* Export the city data into a .csv.\n",
    "* Display the DataFrame"
   ]
  },
  {
   "cell_type": "code",
   "execution_count": 5,
   "metadata": {},
   "outputs": [
    {
     "data": {
      "text/html": [
       "<div>\n",
       "<style scoped>\n",
       "    .dataframe tbody tr th:only-of-type {\n",
       "        vertical-align: middle;\n",
       "    }\n",
       "\n",
       "    .dataframe tbody tr th {\n",
       "        vertical-align: top;\n",
       "    }\n",
       "\n",
       "    .dataframe thead th {\n",
       "        text-align: right;\n",
       "    }\n",
       "</style>\n",
       "<table border=\"1\" class=\"dataframe\">\n",
       "  <thead>\n",
       "    <tr style=\"text-align: right;\">\n",
       "      <th></th>\n",
       "      <th>City</th>\n",
       "      <th>Latitude</th>\n",
       "      <th>Longitude</th>\n",
       "      <th>Max Temperature</th>\n",
       "      <th>Humidity</th>\n",
       "      <th>Cloudiness</th>\n",
       "      <th>Wind Speed</th>\n",
       "      <th>Country</th>\n",
       "      <th>Date</th>\n",
       "    </tr>\n",
       "  </thead>\n",
       "  <tbody>\n",
       "    <tr>\n",
       "      <th>0</th>\n",
       "      <td>tuktoyaktuk</td>\n",
       "      <td>69.4541</td>\n",
       "      <td>-133.0374</td>\n",
       "      <td>39.20</td>\n",
       "      <td>93</td>\n",
       "      <td>40</td>\n",
       "      <td>10.36</td>\n",
       "      <td>CA</td>\n",
       "      <td>1662703151</td>\n",
       "    </tr>\n",
       "    <tr>\n",
       "      <th>1</th>\n",
       "      <td>manokwari</td>\n",
       "      <td>-0.8667</td>\n",
       "      <td>134.0833</td>\n",
       "      <td>82.29</td>\n",
       "      <td>73</td>\n",
       "      <td>100</td>\n",
       "      <td>5.12</td>\n",
       "      <td>ID</td>\n",
       "      <td>1662703365</td>\n",
       "    </tr>\n",
       "    <tr>\n",
       "      <th>2</th>\n",
       "      <td>mataura</td>\n",
       "      <td>-46.1927</td>\n",
       "      <td>168.8643</td>\n",
       "      <td>45.91</td>\n",
       "      <td>89</td>\n",
       "      <td>32</td>\n",
       "      <td>2.51</td>\n",
       "      <td>NZ</td>\n",
       "      <td>1662703365</td>\n",
       "    </tr>\n",
       "    <tr>\n",
       "      <th>3</th>\n",
       "      <td>butaritari</td>\n",
       "      <td>3.0707</td>\n",
       "      <td>172.7902</td>\n",
       "      <td>81.70</td>\n",
       "      <td>76</td>\n",
       "      <td>91</td>\n",
       "      <td>15.35</td>\n",
       "      <td>KI</td>\n",
       "      <td>1662703366</td>\n",
       "    </tr>\n",
       "    <tr>\n",
       "      <th>4</th>\n",
       "      <td>yeppoon</td>\n",
       "      <td>-23.1333</td>\n",
       "      <td>150.7333</td>\n",
       "      <td>73.18</td>\n",
       "      <td>80</td>\n",
       "      <td>92</td>\n",
       "      <td>9.19</td>\n",
       "      <td>AU</td>\n",
       "      <td>1662703366</td>\n",
       "    </tr>\n",
       "  </tbody>\n",
       "</table>\n",
       "</div>"
      ],
      "text/plain": [
       "          City  Latitude  Longitude  Max Temperature  Humidity  Cloudiness  \\\n",
       "0  tuktoyaktuk   69.4541  -133.0374            39.20        93          40   \n",
       "1    manokwari   -0.8667   134.0833            82.29        73         100   \n",
       "2      mataura  -46.1927   168.8643            45.91        89          32   \n",
       "3   butaritari    3.0707   172.7902            81.70        76          91   \n",
       "4      yeppoon  -23.1333   150.7333            73.18        80          92   \n",
       "\n",
       "   Wind Speed Country        Date  \n",
       "0       10.36      CA  1662703151  \n",
       "1        5.12      ID  1662703365  \n",
       "2        2.51      NZ  1662703365  \n",
       "3       15.35      KI  1662703366  \n",
       "4        9.19      AU  1662703366  "
      ]
     },
     "execution_count": 5,
     "metadata": {},
     "output_type": "execute_result"
    }
   ],
   "source": [
    "weather_data.to_csv(\n",
    "    path_or_buf = \"../output_data/cities.csv\"\n",
    ")\n",
    "weather_data.head()"
   ]
  },
  {
   "cell_type": "code",
   "execution_count": 6,
   "metadata": {},
   "outputs": [],
   "source": [
    "weather_data.to_csv(\"../output_data/weather_data.csv\", index = False)\n"
   ]
  },
  {
   "cell_type": "markdown",
   "metadata": {},
   "source": [
    "## Inspect the data and remove the cities where the humidity > 100%.\n",
    "----\n",
    "Skip this step if there are no cities that have humidity > 100%. "
   ]
  },
  {
   "cell_type": "code",
   "execution_count": 7,
   "metadata": {},
   "outputs": [
    {
     "name": "stdout",
     "output_type": "stream",
     "text": [
      "The maximum humidity for the cities in the dataframe is 100\n"
     ]
    }
   ],
   "source": [
    "print(f\"The maximum humidity for the cities in the dataframe is {weather_data['Humidity'].max()}\")\n"
   ]
  },
  {
   "cell_type": "code",
   "execution_count": 23,
   "metadata": {},
   "outputs": [
    {
     "data": {
      "text/html": [
       "<div>\n",
       "<style scoped>\n",
       "    .dataframe tbody tr th:only-of-type {\n",
       "        vertical-align: middle;\n",
       "    }\n",
       "\n",
       "    .dataframe tbody tr th {\n",
       "        vertical-align: top;\n",
       "    }\n",
       "\n",
       "    .dataframe thead th {\n",
       "        text-align: right;\n",
       "    }\n",
       "</style>\n",
       "<table border=\"1\" class=\"dataframe\">\n",
       "  <thead>\n",
       "    <tr style=\"text-align: right;\">\n",
       "      <th></th>\n",
       "      <th>City</th>\n",
       "      <th>Latitude</th>\n",
       "      <th>Longitude</th>\n",
       "      <th>Max Temperature</th>\n",
       "      <th>Humidity</th>\n",
       "      <th>Cloudiness</th>\n",
       "      <th>Wind Speed</th>\n",
       "      <th>Country</th>\n",
       "      <th>Date</th>\n",
       "    </tr>\n",
       "  </thead>\n",
       "  <tbody>\n",
       "    <tr>\n",
       "      <th>0</th>\n",
       "      <td>tuktoyaktuk</td>\n",
       "      <td>69.4541</td>\n",
       "      <td>-133.0374</td>\n",
       "      <td>39.20</td>\n",
       "      <td>93</td>\n",
       "      <td>40</td>\n",
       "      <td>10.36</td>\n",
       "      <td>CA</td>\n",
       "      <td>1662703151</td>\n",
       "    </tr>\n",
       "    <tr>\n",
       "      <th>1</th>\n",
       "      <td>manokwari</td>\n",
       "      <td>-0.8667</td>\n",
       "      <td>134.0833</td>\n",
       "      <td>82.29</td>\n",
       "      <td>73</td>\n",
       "      <td>100</td>\n",
       "      <td>5.12</td>\n",
       "      <td>ID</td>\n",
       "      <td>1662703365</td>\n",
       "    </tr>\n",
       "    <tr>\n",
       "      <th>2</th>\n",
       "      <td>mataura</td>\n",
       "      <td>-46.1927</td>\n",
       "      <td>168.8643</td>\n",
       "      <td>45.91</td>\n",
       "      <td>89</td>\n",
       "      <td>32</td>\n",
       "      <td>2.51</td>\n",
       "      <td>NZ</td>\n",
       "      <td>1662703365</td>\n",
       "    </tr>\n",
       "    <tr>\n",
       "      <th>3</th>\n",
       "      <td>butaritari</td>\n",
       "      <td>3.0707</td>\n",
       "      <td>172.7902</td>\n",
       "      <td>81.70</td>\n",
       "      <td>76</td>\n",
       "      <td>91</td>\n",
       "      <td>15.35</td>\n",
       "      <td>KI</td>\n",
       "      <td>1662703366</td>\n",
       "    </tr>\n",
       "    <tr>\n",
       "      <th>4</th>\n",
       "      <td>yeppoon</td>\n",
       "      <td>-23.1333</td>\n",
       "      <td>150.7333</td>\n",
       "      <td>73.18</td>\n",
       "      <td>80</td>\n",
       "      <td>92</td>\n",
       "      <td>9.19</td>\n",
       "      <td>AU</td>\n",
       "      <td>1662703366</td>\n",
       "    </tr>\n",
       "    <tr>\n",
       "      <th>...</th>\n",
       "      <td>...</td>\n",
       "      <td>...</td>\n",
       "      <td>...</td>\n",
       "      <td>...</td>\n",
       "      <td>...</td>\n",
       "      <td>...</td>\n",
       "      <td>...</td>\n",
       "      <td>...</td>\n",
       "      <td>...</td>\n",
       "    </tr>\n",
       "    <tr>\n",
       "      <th>554</th>\n",
       "      <td>daitari</td>\n",
       "      <td>21.1000</td>\n",
       "      <td>85.7500</td>\n",
       "      <td>84.99</td>\n",
       "      <td>67</td>\n",
       "      <td>98</td>\n",
       "      <td>15.64</td>\n",
       "      <td>IN</td>\n",
       "      <td>1662703563</td>\n",
       "    </tr>\n",
       "    <tr>\n",
       "      <th>555</th>\n",
       "      <td>smithers</td>\n",
       "      <td>54.7804</td>\n",
       "      <td>-127.1743</td>\n",
       "      <td>46.06</td>\n",
       "      <td>91</td>\n",
       "      <td>18</td>\n",
       "      <td>3.15</td>\n",
       "      <td>CA</td>\n",
       "      <td>1662703563</td>\n",
       "    </tr>\n",
       "    <tr>\n",
       "      <th>556</th>\n",
       "      <td>neiafu</td>\n",
       "      <td>-18.6500</td>\n",
       "      <td>-173.9833</td>\n",
       "      <td>77.68</td>\n",
       "      <td>78</td>\n",
       "      <td>20</td>\n",
       "      <td>6.91</td>\n",
       "      <td>TO</td>\n",
       "      <td>1662703564</td>\n",
       "    </tr>\n",
       "    <tr>\n",
       "      <th>557</th>\n",
       "      <td>orlik</td>\n",
       "      <td>52.5178</td>\n",
       "      <td>99.8250</td>\n",
       "      <td>55.27</td>\n",
       "      <td>73</td>\n",
       "      <td>66</td>\n",
       "      <td>11.48</td>\n",
       "      <td>RU</td>\n",
       "      <td>1662703564</td>\n",
       "    </tr>\n",
       "    <tr>\n",
       "      <th>558</th>\n",
       "      <td>trairi</td>\n",
       "      <td>-3.2778</td>\n",
       "      <td>-39.2689</td>\n",
       "      <td>76.80</td>\n",
       "      <td>79</td>\n",
       "      <td>9</td>\n",
       "      <td>13.98</td>\n",
       "      <td>BR</td>\n",
       "      <td>1662703411</td>\n",
       "    </tr>\n",
       "  </tbody>\n",
       "</table>\n",
       "<p>559 rows × 9 columns</p>\n",
       "</div>"
      ],
      "text/plain": [
       "            City  Latitude  Longitude  Max Temperature  Humidity  Cloudiness  \\\n",
       "0    tuktoyaktuk   69.4541  -133.0374            39.20        93          40   \n",
       "1      manokwari   -0.8667   134.0833            82.29        73         100   \n",
       "2        mataura  -46.1927   168.8643            45.91        89          32   \n",
       "3     butaritari    3.0707   172.7902            81.70        76          91   \n",
       "4        yeppoon  -23.1333   150.7333            73.18        80          92   \n",
       "..           ...       ...        ...              ...       ...         ...   \n",
       "554      daitari   21.1000    85.7500            84.99        67          98   \n",
       "555     smithers   54.7804  -127.1743            46.06        91          18   \n",
       "556       neiafu  -18.6500  -173.9833            77.68        78          20   \n",
       "557        orlik   52.5178    99.8250            55.27        73          66   \n",
       "558       trairi   -3.2778   -39.2689            76.80        79           9   \n",
       "\n",
       "     Wind Speed Country        Date  \n",
       "0         10.36      CA  1662703151  \n",
       "1          5.12      ID  1662703365  \n",
       "2          2.51      NZ  1662703365  \n",
       "3         15.35      KI  1662703366  \n",
       "4          9.19      AU  1662703366  \n",
       "..          ...     ...         ...  \n",
       "554       15.64      IN  1662703563  \n",
       "555        3.15      CA  1662703563  \n",
       "556        6.91      TO  1662703564  \n",
       "557       11.48      RU  1662703564  \n",
       "558       13.98      BR  1662703411  \n",
       "\n",
       "[559 rows x 9 columns]"
      ]
     },
     "execution_count": 23,
     "metadata": {},
     "output_type": "execute_result"
    }
   ],
   "source": [
    "#  Get the indices of cities that have humidity over 100%.\n",
    "humidity_data_df = weather_data.loc[(weather_data['Humidity'] > 100)]\n",
    "weather_data"
   ]
  },
  {
   "cell_type": "code",
   "execution_count": 24,
   "metadata": {},
   "outputs": [],
   "source": [
    "# Make a new DataFrame equal to the city data to drop all humidity outliers by index.\n",
    "# Passing \"inplace=False\" will make a copy of the city_data DataFrame, which we call \"clean_city_data\".\n",
    "\n",
    "# clean_city_data = weather_data.drop([(weather_data['Humidity'] >= 100)])\n",
    "# clean_city_data"
   ]
  },
  {
   "cell_type": "code",
   "execution_count": null,
   "metadata": {},
   "outputs": [],
   "source": [
    "\n"
   ]
  },
  {
   "cell_type": "markdown",
   "metadata": {},
   "source": [
    "## Plotting the Data\n",
    "* Use proper labeling of the plots using plot titles (including date of analysis) and axes labels.\n",
    "* Save the plotted figures as .pngs."
   ]
  },
  {
   "cell_type": "markdown",
   "metadata": {},
   "source": [
    "## Latitude vs. Temperature Plot"
   ]
  },
  {
   "cell_type": "code",
   "execution_count": 25,
   "metadata": {
    "scrolled": true
   },
   "outputs": [
    {
     "data": {
      "text/plain": [
       "<matplotlib.collections.PathCollection at 0x2f56e4bee80>"
      ]
     },
     "execution_count": 25,
     "metadata": {},
     "output_type": "execute_result"
    },
    {
     "data": {
      "image/png": "[encoded data removed]",
      "text/plain": [
       "<Figure size 432x288 with 1 Axes>"
      ]
     },
     "metadata": {
      "needs_background": "light"
     },
     "output_type": "display_data"
    }
   ],
   "source": [
    "plt.title('City Latitude vs. Max Temperature (F)')\n",
    "plt.xlabel('Latitude')\n",
    "plt.ylabel('Max Temperature (F)')\n",
    "\n",
    "x1 = lat\n",
    "y1 = temp\n",
    "\n",
    "plt.scatter(x1, y1)"
   ]
  },
  {
   "cell_type": "markdown",
   "metadata": {},
   "source": [
    "## Latitude vs. Humidity Plot"
   ]
  },
  {
   "cell_type": "code",
   "execution_count": 26,
   "metadata": {},
   "outputs": [
    {
     "data": {
      "text/plain": [
       "<matplotlib.collections.PathCollection at 0x2f56f6302b0>"
      ]
     },
     "execution_count": 26,
     "metadata": {},
     "output_type": "execute_result"
    },
    {
     "data": {
      "image/png": "[encoded data removed]",
      "text/plain": [
       "<Figure size 432x288 with 1 Axes>"
      ]
     },
     "metadata": {
      "needs_background": "light"
     },
     "output_type": "display_data"
    }
   ],
   "source": [
    "plt.title('City Latitude vs. Humidity (%)')\n",
    "plt.xlabel('Latitude')\n",
    "plt.ylabel('Humidity (%)')\n",
    "\n",
    "x2 = lat\n",
    "y2 = humidity\n",
    "\n",
    "plt.scatter(x2, y2)"
   ]
  },
  {
   "cell_type": "markdown",
   "metadata": {},
   "source": [
    "## Latitude vs. Cloudiness Plot"
   ]
  },
  {
   "cell_type": "code",
   "execution_count": 27,
   "metadata": {},
   "outputs": [
    {
     "data": {
      "text/plain": [
       "<matplotlib.collections.PathCollection at 0x2f56f64c160>"
      ]
     },
     "execution_count": 27,
     "metadata": {},
     "output_type": "execute_result"
    },
    {
     "data": {
      "image/png": "[encoded data removed]",
      "text/plain": [
       "<Figure size 432x288 with 1 Axes>"
      ]
     },
     "metadata": {
      "needs_background": "light"
     },
     "output_type": "display_data"
    }
   ],
   "source": [
    "plt.title('City Latitude vs. Cloudiness (%)')\n",
    "plt.xlabel('Latitude')\n",
    "plt.ylabel('Cloudiness (%)')\n",
    "\n",
    "x3 = lat\n",
    "y3 = clouds\n",
    "\n",
    "plt.scatter(x3, y3)"
   ]
  },
  {
   "cell_type": "markdown",
   "metadata": {},
   "source": [
    "## Latitude vs. Wind Speed Plot"
   ]
  },
  {
   "cell_type": "code",
   "execution_count": 28,
   "metadata": {},
   "outputs": [
    {
     "data": {
      "text/plain": [
       "<matplotlib.collections.PathCollection at 0x2f56f7040d0>"
      ]
     },
     "execution_count": 28,
     "metadata": {},
     "output_type": "execute_result"
    },
    {
     "data": {
      "image/png": "[encoded data removed]",
      "text/plain": [
       "<Figure size 432x288 with 1 Axes>"
      ]
     },
     "metadata": {
      "needs_background": "light"
     },
     "output_type": "display_data"
    }
   ],
   "source": [
    "plt.title('City Latitude vs. Wind Speed (mph)')\n",
    "plt.xlabel('Latitude')\n",
    "plt.ylabel('Wind Speed (mph)')\n",
    "\n",
    "x4 = lat\n",
    "y4 = speed\n",
    "\n",
    "plt.scatter(x4, y4)"
   ]
  },
  {
   "cell_type": "markdown",
   "metadata": {},
   "source": [
    "## Linear Regression"
   ]
  },
  {
   "cell_type": "code",
   "execution_count": 29,
   "metadata": {},
   "outputs": [],
   "source": [
    "lat_north = weather_data.loc[weather_data['Latitude'] > 0]\n",
    "lat_south = weather_data.loc[weather_data['Latitude'] < 0]"
   ]
  },
  {
   "cell_type": "markdown",
   "metadata": {},
   "source": [
    "####  Northern Hemisphere - Max Temp vs. Latitude Linear Regression"
   ]
  },
  {
   "cell_type": "code",
   "execution_count": 30,
   "metadata": {},
   "outputs": [
    {
     "name": "stdout",
     "output_type": "stream",
     "text": [
      "The value of r-squared is: 0.621690258145605\n"
     ]
    },
    {
     "data": {
      "text/plain": [
       "Text(0, 50, 'y = -0.62x + 90.99')"
      ]
     },
     "execution_count": 30,
     "metadata": {},
     "output_type": "execute_result"
    },
    {
     "data": {
      "image/png": "[encoded data removed]",
      "text/plain": [
       "<Figure size 432x288 with 1 Axes>"
      ]
     },
     "metadata": {
      "needs_background": "light"
     },
     "output_type": "display_data"
    }
   ],
   "source": [
    "plt.title('Northern Hemisphere - City Latitude vs. Max Temperature (F)')\n",
    "plt.xlabel('Latitude')\n",
    "plt.ylabel('Max Temperature (F)')\n",
    "\n",
    "x5 = lat_north['Latitude']\n",
    "y5 = lat_north['Max Temperature']\n",
    "\n",
    "plt.scatter(x5, y5)\n",
    "\n",
    "(slope, intercept, r, p, se) = linregress(x5, y5)\n",
    "regress_values = x5 * slope + intercept\n",
    "line_eq = \"y = \" + str(round(slope,2)) + \"x + \" + str(round(intercept,2))\n",
    "\n",
    "print(f\"The value of r-squared is: {r**2}\")\n",
    "plt.plot(x5,regress_values,\"r-\")\n",
    "plt.annotate(line_eq,(0,50),fontsize=15,color=\"red\")"
   ]
  },
  {
   "cell_type": "markdown",
   "metadata": {},
   "source": [
    "####  Southern Hemisphere - Max Temp vs. Latitude Linear Regression"
   ]
  },
  {
   "cell_type": "code",
   "execution_count": 31,
   "metadata": {},
   "outputs": [
    {
     "name": "stdout",
     "output_type": "stream",
     "text": [
      "The value of r-squared is: 0.5860741440745999\n"
     ]
    },
    {
     "data": {
      "text/plain": [
       "Text(0, 50, 'y = 0.73x + 82.68')"
      ]
     },
     "execution_count": 31,
     "metadata": {},
     "output_type": "execute_result"
    },
    {
     "data": {
      "image/png": "[encoded data removed]",
      "text/plain": [
       "<Figure size 432x288 with 1 Axes>"
      ]
     },
     "metadata": {
      "needs_background": "light"
     },
     "output_type": "display_data"
    }
   ],
   "source": [
    "plt.title('Southern Hemisphere - City Latitude vs. Max Temperature (F)')\n",
    "plt.xlabel('Latitude')\n",
    "plt.ylabel('Max Temperature (F)')\n",
    "\n",
    "x6 = lat_south['Latitude']\n",
    "y6 = lat_south['Max Temperature']\n",
    "\n",
    "plt.scatter(x6, y6)\n",
    "\n",
    "(slope, intercept, r, p, se) = linregress(x6, y6)\n",
    "regress_values = x6 * slope + intercept\n",
    "line_eq = \"y = \" + str(round(slope,2)) + \"x + \" + str(round(intercept,2))\n",
    "\n",
    "print(f\"The value of r-squared is: {r**2}\")\n",
    "plt.plot(x6,regress_values,\"r-\")\n",
    "plt.annotate(line_eq,(0,50),fontsize=15,color=\"red\")"
   ]
  },
  {
   "cell_type": "markdown",
   "metadata": {},
   "source": [
    "####  Northern Hemisphere - Humidity (%) vs. Latitude Linear Regression"
   ]
  },
  {
   "cell_type": "code",
   "execution_count": 32,
   "metadata": {},
   "outputs": [
    {
     "name": "stdout",
     "output_type": "stream",
     "text": [
      "The value of r-squared is: 0.0014778330659484956\n"
     ]
    },
    {
     "data": {
      "text/plain": [
       "Text(0, 50, 'y = 0.04x + 69.55')"
      ]
     },
     "execution_count": 32,
     "metadata": {},
     "output_type": "execute_result"
    },
    {
     "data": {
      "image/png": "[encoded data removed]",
      "text/plain": [
       "<Figure size 432x288 with 1 Axes>"
      ]
     },
     "metadata": {
      "needs_background": "light"
     },
     "output_type": "display_data"
    }
   ],
   "source": [
    "plt.title('Northern Hemisphere - City Latitude vs. Humidity (%)')\n",
    "plt.xlabel('Latitude')\n",
    "plt.ylabel('Humidity (%)')\n",
    "\n",
    "x7 = lat_north['Latitude']\n",
    "y7 = lat_north['Humidity']\n",
    "\n",
    "plt.scatter(x7, y7)\n",
    "\n",
    "(slope, intercept, r, p, se) = linregress(x7, y7)\n",
    "regress_values = x7 * slope + intercept\n",
    "line_eq = \"y = \" + str(round(slope,2)) + \"x + \" + str(round(intercept,2))\n",
    "\n",
    "print(f\"The value of r-squared is: {r**2}\")\n",
    "plt.plot(x7,regress_values,\"r-\")\n",
    "plt.annotate(line_eq,(0,50),fontsize=15,color=\"red\")"
   ]
  },
  {
   "cell_type": "markdown",
   "metadata": {},
   "source": [
    "####  Southern Hemisphere - Humidity (%) vs. Latitude Linear Regression"
   ]
  },
  {
   "cell_type": "code",
   "execution_count": 33,
   "metadata": {},
   "outputs": [
    {
     "name": "stdout",
     "output_type": "stream",
     "text": [
      "The value of r-squared is: 0.026571124977247895\n"
     ]
    },
    {
     "data": {
      "text/plain": [
       "Text(0, 50, 'y = -0.22x + 64.71')"
      ]
     },
     "execution_count": 33,
     "metadata": {},
     "output_type": "execute_result"
    },
    {
     "data": {
      "image/png": "[encoded data removed]",
      "text/plain": [
       "<Figure size 432x288 with 1 Axes>"
      ]
     },
     "metadata": {
      "needs_background": "light"
     },
     "output_type": "display_data"
    }
   ],
   "source": [
    "plt.title('Southern Hemisphere - City Latitude vs. Humidity (%)')\n",
    "plt.xlabel('Latitude')\n",
    "plt.ylabel('Humidity (%)')\n",
    "\n",
    "x8 = lat_south['Latitude']\n",
    "y8 = lat_south['Humidity']\n",
    "\n",
    "plt.scatter(x8, y8)\n",
    "\n",
    "(slope, intercept, r, p, se) = linregress(x8, y8)\n",
    "regress_values = x8 * slope + intercept\n",
    "line_eq = \"y = \" + str(round(slope,2)) + \"x + \" + str(round(intercept,2))\n",
    "\n",
    "print(f\"The value of r-squared is: {r**2}\")\n",
    "plt.plot(x8,regress_values,\"r-\")\n",
    "plt.annotate(line_eq,(0,50),fontsize=15,color=\"red\")"
   ]
  },
  {
   "cell_type": "markdown",
   "metadata": {},
   "source": [
    "####  Northern Hemisphere - Cloudiness (%) vs. Latitude Linear Regression"
   ]
  },
  {
   "cell_type": "code",
   "execution_count": 34,
   "metadata": {},
   "outputs": [
    {
     "name": "stdout",
     "output_type": "stream",
     "text": [
      "The value of r-squared is: 0.0014310475310589667\n"
     ]
    },
    {
     "data": {
      "text/plain": [
       "Text(0, 50, 'y = 0.08x + 50.69')"
      ]
     },
     "execution_count": 34,
     "metadata": {},
     "output_type": "execute_result"
    },
    {
     "data": {
      "image/png": "[encoded data removed]",
      "text/plain": [
       "<Figure size 432x288 with 1 Axes>"
      ]
     },
     "metadata": {
      "needs_background": "light"
     },
     "output_type": "display_data"
    }
   ],
   "source": [
    "plt.title('Northern Hemisphere - City Latitude vs. Cloudiness (%)')\n",
    "plt.xlabel('Latitude')\n",
    "plt.ylabel('Cloudiness (%)')\n",
    "\n",
    "x9 = lat_north['Latitude']\n",
    "y9 = lat_north['Cloudiness']\n",
    "\n",
    "plt.scatter(x9, y9)\n",
    "\n",
    "(slope, intercept, r, p, se) = linregress(x9, y9)\n",
    "regress_values = x9 * slope + intercept\n",
    "line_eq = \"y = \" + str(round(slope,2)) + \"x + \" + str(round(intercept,2))\n",
    "\n",
    "print(f\"The value of r-squared is: {r**2}\")\n",
    "plt.plot(x9,regress_values,\"r-\")\n",
    "plt.annotate(line_eq,(0,50),fontsize=15,color=\"red\")"
   ]
  },
  {
   "cell_type": "markdown",
   "metadata": {},
   "source": [
    "####  Southern Hemisphere - Cloudiness (%) vs. Latitude Linear Regression"
   ]
  },
  {
   "cell_type": "code",
   "execution_count": 35,
   "metadata": {},
   "outputs": [
    {
     "name": "stdout",
     "output_type": "stream",
     "text": [
      "The value of r-squared is: 0.006578085933379893\n"
     ]
    },
    {
     "data": {
      "text/plain": [
       "Text(0, 50, 'y = -0.22x + 38.95')"
      ]
     },
     "execution_count": 35,
     "metadata": {},
     "output_type": "execute_result"
    },
    {
     "data": {
      "image/png": "[encoded data removed]",
      "text/plain": [
       "<Figure size 432x288 with 1 Axes>"
      ]
     },
     "metadata": {
      "needs_background": "light"
     },
     "output_type": "display_data"
    }
   ],
   "source": [
    "plt.title('Southern Hemisphere - City Latitude vs. Cloudiness (%)')\n",
    "plt.xlabel('Latitude')\n",
    "plt.ylabel('Cloudiness (%)')\n",
    "\n",
    "x10 = lat_south['Latitude']\n",
    "y10 = lat_south['Cloudiness']\n",
    "\n",
    "plt.scatter(x10, y10)\n",
    "\n",
    "(slope, intercept, r, p, se) = linregress(x10, y10)\n",
    "regress_values = x10 * slope + intercept\n",
    "line_eq = \"y = \" + str(round(slope,2)) + \"x + \" + str(round(intercept,2))\n",
    "\n",
    "print(f\"The value of r-squared is: {r**2}\")\n",
    "plt.plot(x10,regress_values,\"r-\")\n",
    "plt.annotate(line_eq,(0,50),fontsize=15,color=\"red\")"
   ]
  },
  {
   "cell_type": "markdown",
   "metadata": {},
   "source": [
    "####  Northern Hemisphere - Wind Speed (mph) vs. Latitude Linear Regression"
   ]
  },
  {
   "cell_type": "code",
   "execution_count": 36,
   "metadata": {},
   "outputs": [
    {
     "name": "stdout",
     "output_type": "stream",
     "text": [
      "The value of r-squared is: 0.014304274671915406\n"
     ]
    },
    {
     "data": {
      "text/plain": [
       "Text(0, 50, 'y = 0.03x + 6.49')"
      ]
     },
     "execution_count": 36,
     "metadata": {},
     "output_type": "execute_result"
    },
    {
     "data": {
      "image/png": "[encoded data removed]",
      "text/plain": [
       "<Figure size 432x288 with 1 Axes>"
      ]
     },
     "metadata": {
      "needs_background": "light"
     },
     "output_type": "display_data"
    }
   ],
   "source": [
    "plt.title('Northern Hemisphere - City Latitude vs. Wind Speed (mph)')\n",
    "plt.xlabel('Latitude')\n",
    "plt.ylabel('Wind Speed (mph)')\n",
    "\n",
    "x11 = lat_north['Latitude']\n",
    "y11 = lat_north['Wind Speed']\n",
    "\n",
    "plt.scatter(x11, y11)\n",
    "\n",
    "(slope, intercept, r, p, se) = linregress(x11, y11)\n",
    "regress_values = x11 * slope + intercept\n",
    "line_eq = \"y = \" + str(round(slope,2)) + \"x + \" + str(round(intercept,2))\n",
    "\n",
    "print(f\"The value of r-squared is: {r**2}\")\n",
    "plt.plot(x11,regress_values,\"r-\")\n",
    "plt.annotate(line_eq,(0,50),fontsize=15,color=\"red\")"
   ]
  },
  {
   "cell_type": "markdown",
   "metadata": {},
   "source": [
    "####  Southern Hemisphere - Wind Speed (mph) vs. Latitude Linear Regression"
   ]
  },
  {
   "cell_type": "code",
   "execution_count": 37,
   "metadata": {},
   "outputs": [
    {
     "name": "stdout",
     "output_type": "stream",
     "text": [
      "The value of r-squared is: 5.302094636877371e-05\n"
     ]
    },
    {
     "data": {
      "text/plain": [
       "Text(0, 50, 'y = -0.0x + 8.09')"
      ]
     },
     "execution_count": 37,
     "metadata": {},
     "output_type": "execute_result"
    },
    {
     "data": {
      "image/png": "[encoded data removed]",
      "text/plain": [
       "<Figure size 432x288 with 1 Axes>"
      ]
     },
     "metadata": {
      "needs_background": "light"
     },
     "output_type": "display_data"
    }
   ],
   "source": [
    "plt.title('Southern Hemisphere - City Latitude vs. Wind Speed (mph)')\n",
    "plt.xlabel('Latitude')\n",
    "plt.ylabel('Wind Speed (mph)')\n",
    "\n",
    "x12 = lat_south['Latitude']\n",
    "y12 = lat_south['Wind Speed']\n",
    "\n",
    "plt.scatter(x12, y12)\n",
    "\n",
    "(slope, intercept, r, p, se) = linregress(x12, y12)\n",
    "regress_values = x12 * slope + intercept\n",
    "line_eq = \"y = \" + str(round(slope,2)) + \"x + \" + str(round(intercept,2))\n",
    "\n",
    "print(f\"The value of r-squared is: {r**2}\")\n",
    "plt.plot(x12,regress_values,\"r-\")\n",
    "plt.annotate(line_eq,(0,50),fontsize=15,color=\"red\")"
   ]
  },
  {
   "cell_type": "code",
   "execution_count": null,
   "metadata": {},
   "outputs": [],
   "source": []
  }
 ],
 "metadata": {
  "anaconda-cloud": {},
  "kernel_info": {
   "name": "python3"
  },
  "kernelspec": {
   "display_name": "Python 3 (ipykernel)",
   "language": "python",
   "name": "python3"
  },
  "language_info": {
   "codemirror_mode": {
    "name": "ipython",
    "version": 3
   },
   "file_extension": ".py",
   "mimetype": "text/x-python",
   "name": "python",
   "nbconvert_exporter": "python",
   "pygments_lexer": "ipython3",
   "version": "3.9.7"
  },
  "latex_envs": {
   "LaTeX_envs_menu_present": true,
   "autoclose": false,
   "autocomplete": true,
   "bibliofile": "biblio.bib",
   "cite_by": "apalike",
   "current_citInitial": 1,
   "eqLabelWithNumbers": true,
   "eqNumInitial": 1,
   "hotkeys": {
    "equation": "Ctrl-E",
    "itemize": "Ctrl-I"
   },
   "labels_anchors": false,
   "latex_user_defs": false,
   "report_style_numbering": false,
   "user_envs_cfg": false
  },
  "nteract": {
   "version": "0.12.3"
  }
 },
 "nbformat": 4,
 "nbformat_minor": 2
}
