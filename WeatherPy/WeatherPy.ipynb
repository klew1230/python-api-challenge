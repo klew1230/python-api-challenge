{
 "cells": [
  {
   "cell_type": "markdown",
   "metadata": {},
   "source": [
    "# WeatherPy\n",
    "----\n",
    "\n",
    "#### Note\n",
    "* Instructions have been included for each segment. You do not have to follow them exactly, but they are included to help you think through the steps."
   ]
  },
  {
   "cell_type": "code",
   "execution_count": 1,
   "metadata": {
    "scrolled": true
   },
   "outputs": [],
   "source": [
    "# Dependencies and Setup\n",
    "import matplotlib.pyplot as plt\n",
    "import pandas as pd\n",
    "import numpy as np\n",
    "import requests\n",
    "import time\n",
    "from scipy.stats import linregress\n",
    "\n",
    "# Import API key\n",
    "from api_keys import weather_api_key\n",
    "\n",
    "# Incorporated citipy to determine city based on latitude and longitude\n",
    "from citipy import citipy\n",
    "\n",
    "# Output File (CSV)\n",
    "output_data_file = \"output_data/cities.csv\"\n",
    "\n",
    "# Range of latitudes and longitudes\n",
    "lat_range = (-90, 90)\n",
    "lng_range = (-180, 180)"
   ]
  },
  {
   "cell_type": "markdown",
   "metadata": {},
   "source": [
    "## Generate Cities List"
   ]
  },
  {
   "cell_type": "code",
   "execution_count": 2,
   "metadata": {},
   "outputs": [
    {
     "data": {
      "text/plain": [
       "604"
      ]
     },
     "execution_count": 2,
     "metadata": {},
     "output_type": "execute_result"
    }
   ],
   "source": [
    "# List for holding lat_lngs and cities\n",
    "lat_lngs = []\n",
    "cities = []\n",
    "\n",
    "# Create a set of random lat and lng combinations\n",
    "lats = np.random.uniform(lat_range[0], lat_range[1], size=1500)\n",
    "lngs = np.random.uniform(lng_range[0], lng_range[1], size=1500)\n",
    "lat_lngs = zip(lats, lngs)\n",
    "\n",
    "# Identify nearest city for each lat, lng combination\n",
    "for lat_lng in lat_lngs:\n",
    "    city = citipy.nearest_city(lat_lng[0], lat_lng[1]).city_name\n",
    "    \n",
    "    # If the city is unique, then add it to a our cities list\n",
    "    if city not in cities:\n",
    "        cities.append(city)\n",
    "\n",
    "# Print the city count to confirm sufficient count\n",
    "len(cities)"
   ]
  },
  {
   "cell_type": "markdown",
   "metadata": {},
   "source": [
    "### Perform API Calls\n",
    "* Perform a weather check on each city using a series of successive API calls.\n",
    "* Include a print log of each city as it'sbeing processed (with the city number and city name).\n"
   ]
  },
  {
   "cell_type": "code",
   "execution_count": 3,
   "metadata": {
    "scrolled": true
   },
   "outputs": [
    {
     "name": "stdout",
     "output_type": "stream",
     "text": [
      "Processing record 1 of Set 1 | punta arenas\n",
      "Processing record 2 of Set 1 | ponta do sol\n",
      "Processing record 3 of Set 1 | bluff\n",
      "Error: illoqqortoormiut\n",
      "Processing record 5 of Set 1 | castro\n",
      "Processing record 6 of Set 1 | barrow\n",
      "Processing record 7 of Set 1 | ahipara\n",
      "Processing record 8 of Set 1 | cape town\n",
      "Processing record 9 of Set 1 | hobart\n",
      "Processing record 10 of Set 1 | umm lajj\n",
      "Processing record 11 of Set 1 | busselton\n",
      "Error: tumannyy\n",
      "Processing record 13 of Set 1 | qaanaaq\n",
      "Processing record 14 of Set 1 | haines junction\n",
      "Processing record 15 of Set 1 | atherton\n",
      "Processing record 16 of Set 1 | arraial do cabo\n",
      "Processing record 17 of Set 1 | gat\n",
      "Processing record 18 of Set 1 | nishihara\n",
      "Processing record 19 of Set 1 | airai\n",
      "Error: mudyuga\n",
      "Processing record 21 of Set 1 | ribeira grande\n",
      "Processing record 22 of Set 1 | rikitea\n",
      "Processing record 23 of Set 1 | bereznik\n",
      "Processing record 24 of Set 1 | nizwa\n",
      "Processing record 25 of Set 1 | kosonsoy\n",
      "Error: kesennuma\n",
      "Processing record 27 of Set 1 | yellowknife\n",
      "Processing record 28 of Set 1 | jamestown\n",
      "Error: taolanaro\n",
      "Processing record 30 of Set 1 | saint george\n",
      "Processing record 31 of Set 1 | avarua\n",
      "Processing record 32 of Set 1 | port alfred\n",
      "Processing record 33 of Set 1 | vaini\n",
      "Processing record 34 of Set 1 | albany\n",
      "Processing record 35 of Set 1 | coquimbo\n",
      "Processing record 36 of Set 1 | grand gaube\n",
      "Processing record 37 of Set 1 | ushuaia\n",
      "Processing record 38 of Set 1 | kapaa\n",
      "Processing record 39 of Set 1 | kununurra\n",
      "Processing record 40 of Set 1 | sretensk\n",
      "Processing record 41 of Set 1 | luderitz\n",
      "Processing record 42 of Set 1 | bengkulu\n",
      "Error: samusu\n",
      "Processing record 44 of Set 1 | pisco\n",
      "Processing record 45 of Set 1 | dakar\n",
      "Processing record 46 of Set 1 | lasa\n",
      "Processing record 47 of Set 1 | hofn\n",
      "Processing record 48 of Set 1 | ulaanbaatar\n",
      "Processing record 49 of Set 1 | maceio\n",
      "Processing record 50 of Set 1 | ondjiva\n",
      "Processing record 51 of Set 1 | port blair\n",
      "Processing record 52 of Set 1 | saint-philippe\n",
      "Processing record 53 of Set 1 | vanavara\n",
      "Processing record 54 of Set 1 | grand-santi\n",
      "Processing record 55 of Set 1 | gravdal\n",
      "Processing record 56 of Set 1 | bambous virieux\n",
      "Error: balimo\n",
      "Processing record 58 of Set 1 | khasan\n",
      "Processing record 59 of Set 1 | port elizabeth\n",
      "Processing record 60 of Set 1 | san patricio\n",
      "Processing record 61 of Set 1 | east london\n",
      "Processing record 62 of Set 1 | hasaki\n",
      "Processing record 63 of Set 1 | atuona\n",
      "Processing record 64 of Set 1 | daru\n",
      "Processing record 65 of Set 1 | shu\n",
      "Processing record 66 of Set 1 | ngawi\n",
      "Processing record 67 of Set 1 | chokurdakh\n",
      "Processing record 68 of Set 1 | bethel\n",
      "Processing record 69 of Set 1 | lebu\n",
      "Error: barentsburg\n",
      "Processing record 71 of Set 1 | upernavik\n",
      "Processing record 72 of Set 1 | dubti\n",
      "Processing record 73 of Set 1 | thompson\n",
      "Processing record 74 of Set 1 | san nicolas\n",
      "Processing record 75 of Set 1 | norman wells\n",
      "Error: louisbourg\n",
      "Processing record 77 of Set 1 | aklavik\n",
      "Processing record 78 of Set 1 | avera\n",
      "Processing record 79 of Set 1 | dikson\n",
      "Processing record 80 of Set 1 | rathenow\n",
      "Processing record 81 of Set 1 | sitka\n",
      "Processing record 82 of Set 1 | tuatapere\n",
      "Processing record 83 of Set 1 | khatanga\n",
      "Processing record 84 of Set 1 | coahuayana\n",
      "Processing record 85 of Set 1 | cherskiy\n",
      "Processing record 86 of Set 1 | kamenka\n",
      "Error: marcona\n",
      "Processing record 88 of Set 1 | saint-joseph\n",
      "Processing record 89 of Set 1 | kodiak\n",
      "Processing record 90 of Set 1 | kahului\n",
      "Processing record 91 of Set 1 | buala\n",
      "Processing record 92 of Set 1 | yumen\n",
      "Processing record 93 of Set 1 | turayf\n",
      "Processing record 94 of Set 1 | muros\n",
      "Processing record 95 of Set 1 | mahajanga\n",
      "Processing record 96 of Set 1 | santa lucia\n",
      "Processing record 97 of Set 1 | hilo\n",
      "Processing record 98 of Set 1 | edson\n",
      "Processing record 99 of Set 1 | dindigul\n",
      "Processing record 100 of Set 1 | ternate\n",
      "Processing record 101 of Set 1 | muskegon\n",
      "Error: yialos\n",
      "Processing record 103 of Set 1 | carnarvon\n",
      "Processing record 104 of Set 1 | havre-saint-pierre\n",
      "Processing record 105 of Set 1 | butaritari\n",
      "Error: warqla\n",
      "Processing record 107 of Set 1 | guasdualito\n",
      "Processing record 108 of Set 1 | berlevag\n",
      "Processing record 109 of Set 1 | sedam\n",
      "Processing record 110 of Set 1 | saskylakh\n",
      "Processing record 111 of Set 1 | twin falls\n",
      "Error: yunjinghong\n",
      "Processing record 113 of Set 1 | pangnirtung\n",
      "Processing record 114 of Set 1 | boca do acre\n",
      "Processing record 115 of Set 1 | longyearbyen\n",
      "Processing record 116 of Set 1 | rio gallegos\n",
      "Processing record 117 of Set 1 | san carlos de bariloche\n",
      "Error: yanan\n",
      "Processing record 119 of Set 1 | fairbanks\n",
      "Processing record 120 of Set 1 | curaca\n",
      "Processing record 121 of Set 1 | severo-kurilsk\n",
      "Processing record 122 of Set 1 | pontianak\n",
      "Processing record 123 of Set 1 | pedasi\n",
      "Processing record 124 of Set 1 | ancud\n",
      "Processing record 125 of Set 1 | lehututu\n",
      "Processing record 126 of Set 1 | puerto ayora\n",
      "Processing record 127 of Set 1 | codrington\n",
      "Processing record 128 of Set 1 | gardner\n",
      "Error: sentyabrskiy\n",
      "Processing record 130 of Set 1 | lompoc\n",
      "Error: bacuit\n",
      "Processing record 132 of Set 1 | geraldton\n",
      "Processing record 133 of Set 1 | serebryansk\n",
      "Processing record 134 of Set 1 | pacific grove\n",
      "Processing record 135 of Set 1 | weihai\n",
      "Processing record 136 of Set 1 | georgetown\n",
      "Processing record 137 of Set 1 | nikolskoye\n",
      "Processing record 138 of Set 1 | katsuura\n",
      "Processing record 139 of Set 1 | requena\n",
      "Error: belushya guba\n",
      "Processing record 141 of Set 1 | canavieiras\n",
      "Processing record 142 of Set 1 | ostrovnoy\n",
      "Processing record 143 of Set 1 | iquitos\n",
      "Processing record 144 of Set 1 | yerbogachen\n",
      "Processing record 145 of Set 1 | walvis bay\n",
      "Processing record 146 of Set 1 | bredasdorp\n",
      "Processing record 147 of Set 1 | mahebourg\n",
      "Processing record 148 of Set 1 | olafsvik\n",
      "Error: vaitupu\n",
      "Processing record 150 of Set 1 | san juan\n",
      "Processing record 151 of Set 1 | russellville\n",
      "Processing record 152 of Set 1 | am timan\n",
      "Processing record 153 of Set 1 | suntar\n",
      "Processing record 154 of Set 1 | acapulco\n",
      "Processing record 155 of Set 1 | cabo san lucas\n",
      "Error: kuche\n",
      "Processing record 157 of Set 1 | bubaque\n",
      "Processing record 158 of Set 1 | nichinan\n",
      "Processing record 159 of Set 1 | mataura\n",
      "Processing record 160 of Set 1 | mackay\n",
      "Processing record 161 of Set 1 | shelburne\n",
      "Processing record 162 of Set 1 | fillan\n",
      "Processing record 163 of Set 1 | elizabeth city\n",
      "Processing record 164 of Set 1 | mar del plata\n",
      "Processing record 165 of Set 1 | tessalit\n",
      "Error: bolungarvik\n",
      "Processing record 167 of Set 1 | merauke\n",
      "Processing record 168 of Set 1 | yarada\n",
      "Processing record 169 of Set 1 | ponta delgada\n",
      "Error: amderma\n",
      "Processing record 171 of Set 1 | saint-pierre\n",
      "Processing record 172 of Set 1 | udachnyy\n",
      "Error: mrirt\n",
      "Processing record 174 of Set 1 | gamboula\n",
      "Processing record 175 of Set 1 | tura\n",
      "Processing record 176 of Set 1 | wajir\n",
      "Processing record 177 of Set 1 | dingle\n",
      "Processing record 178 of Set 1 | rio grande\n",
      "Processing record 179 of Set 1 | banda aceh\n",
      "Processing record 180 of Set 1 | polunochnoye\n",
      "Processing record 181 of Set 1 | mahibadhoo\n",
      "Processing record 182 of Set 1 | monrovia\n",
      "Processing record 183 of Set 1 | cap malheureux\n",
      "Processing record 184 of Set 1 | kulhudhuffushi\n",
      "Processing record 185 of Set 1 | gazanjyk\n",
      "Processing record 186 of Set 1 | sola\n",
      "Processing record 187 of Set 1 | aketi\n",
      "Processing record 188 of Set 1 | guerrero negro\n",
      "Processing record 189 of Set 1 | meulaboh\n",
      "Processing record 190 of Set 1 | faanui\n",
      "Processing record 191 of Set 1 | tuktoyaktuk\n",
      "Processing record 192 of Set 1 | kindu\n",
      "Processing record 193 of Set 1 | kavieng\n",
      "Processing record 194 of Set 1 | vestmannaeyjar\n",
      "Processing record 195 of Set 1 | karpathos\n",
      "Processing record 196 of Set 1 | maniwaki\n",
      "Processing record 197 of Set 1 | iqaluit\n",
      "Processing record 198 of Set 1 | pochutla\n",
      "Processing record 199 of Set 1 | bantou\n",
      "Processing record 200 of Set 1 | namatanai\n",
      "Error: agva\n",
      "Processing record 202 of Set 1 | angoche\n",
      "Processing record 203 of Set 1 | noyabrsk\n",
      "Processing record 204 of Set 1 | kaeo\n",
      "Processing record 205 of Set 1 | port lincoln\n",
      "Processing record 206 of Set 1 | kawalu\n",
      "Error: mys shmidta\n",
      "Processing record 208 of Set 1 | ojinaga\n",
      "Processing record 209 of Set 1 | sioux lookout\n",
      "Processing record 210 of Set 1 | iskateley\n"
     ]
    },
    {
     "name": "stdout",
     "output_type": "stream",
     "text": [
      "Processing record 211 of Set 1 | gornopravdinsk\n",
      "Processing record 212 of Set 1 | kaitangata\n",
      "Processing record 213 of Set 1 | provideniya\n",
      "Processing record 214 of Set 1 | nanakuli\n",
      "Processing record 215 of Set 1 | vila franca do campo\n",
      "Processing record 216 of Set 1 | rincon\n",
      "Processing record 217 of Set 1 | panguna\n",
      "Processing record 218 of Set 1 | saint-prosper\n",
      "Processing record 219 of Set 1 | dunedin\n",
      "Processing record 220 of Set 1 | ovsyanka\n",
      "Processing record 221 of Set 1 | valkla\n",
      "Error: ijaki\n",
      "Processing record 223 of Set 1 | tiksi\n",
      "Processing record 224 of Set 1 | bellavista\n",
      "Processing record 225 of Set 1 | poum\n",
      "Processing record 226 of Set 1 | cidreira\n",
      "Processing record 227 of Set 1 | katherine\n",
      "Processing record 228 of Set 1 | esso\n",
      "Processing record 229 of Set 1 | perelyub\n",
      "Error: tungkang\n",
      "Processing record 231 of Set 1 | anapskaya\n",
      "Processing record 232 of Set 1 | sorland\n",
      "Processing record 233 of Set 1 | mayo\n",
      "Processing record 234 of Set 1 | mount isa\n",
      "Processing record 235 of Set 1 | necochea\n",
      "Processing record 236 of Set 1 | esperance\n",
      "Processing record 237 of Set 1 | taoudenni\n",
      "Processing record 238 of Set 1 | aquiraz\n",
      "Processing record 239 of Set 1 | yulara\n",
      "Processing record 240 of Set 1 | fortuna\n",
      "Processing record 241 of Set 1 | salalah\n",
      "Processing record 242 of Set 1 | torbay\n",
      "Processing record 243 of Set 1 | pietarsaari\n",
      "Processing record 244 of Set 1 | saint-augustin\n",
      "Processing record 245 of Set 1 | prince rupert\n",
      "Processing record 246 of Set 1 | kavaratti\n",
      "Processing record 247 of Set 1 | chuy\n",
      "Processing record 248 of Set 1 | sakakah\n",
      "Processing record 249 of Set 1 | isabela\n",
      "Error: saleaula\n",
      "Processing record 251 of Set 1 | ukiah\n",
      "Processing record 252 of Set 1 | katete\n",
      "Processing record 253 of Set 1 | harper\n",
      "Processing record 254 of Set 1 | atasu\n",
      "Processing record 255 of Set 1 | guadix\n",
      "Error: felidhoo\n",
      "Error: kamenskoye\n",
      "Processing record 258 of Set 1 | jequie\n",
      "Processing record 259 of Set 1 | tete\n",
      "Processing record 260 of Set 1 | margate\n",
      "Processing record 261 of Set 1 | frontera\n",
      "Error: guelengdeng\n",
      "Processing record 263 of Set 1 | hualmay\n",
      "Processing record 264 of Set 1 | klaksvik\n",
      "Processing record 265 of Set 1 | leopold\n",
      "Processing record 266 of Set 1 | lac du bonnet\n",
      "Processing record 267 of Set 1 | itaituba\n",
      "Error: umm durman\n",
      "Processing record 269 of Set 1 | los llanos de aridane\n",
      "Processing record 270 of Set 1 | port macquarie\n",
      "Processing record 271 of Set 1 | hithadhoo\n",
      "Processing record 272 of Set 1 | ofunato\n",
      "Processing record 273 of Set 1 | port hardy\n",
      "Processing record 274 of Set 1 | saint anthony\n",
      "Processing record 275 of Set 1 | idah\n",
      "Processing record 276 of Set 1 | obodivka\n",
      "Processing record 277 of Set 1 | kruisfontein\n",
      "Processing record 278 of Set 1 | ketchikan\n",
      "Processing record 279 of Set 1 | tucumcari\n",
      "Processing record 280 of Set 1 | tasiilaq\n",
      "Error: sug-aksy\n",
      "Processing record 282 of Set 1 | portland\n",
      "Processing record 283 of Set 1 | belmonte\n",
      "Processing record 284 of Set 1 | pevek\n",
      "Processing record 285 of Set 1 | billings\n",
      "Processing record 286 of Set 1 | kupang\n",
      "Processing record 287 of Set 1 | takanosu\n",
      "Processing record 288 of Set 1 | zabid\n",
      "Processing record 289 of Set 1 | sisimiut\n",
      "Processing record 290 of Set 1 | baijiantan\n",
      "Processing record 291 of Set 1 | islampur\n",
      "Processing record 292 of Set 1 | kandrian\n",
      "Processing record 293 of Set 1 | hami\n",
      "Processing record 294 of Set 1 | gwanda\n",
      "Processing record 295 of Set 1 | kholodnyy\n",
      "Processing record 296 of Set 1 | srednekolymsk\n",
      "Processing record 297 of Set 1 | inta\n",
      "Processing record 298 of Set 1 | bathsheba\n",
      "Processing record 299 of Set 1 | mbigou\n",
      "Processing record 300 of Set 1 | enthavi\n",
      "Processing record 301 of Set 1 | san cristobal\n",
      "Processing record 302 of Set 1 | along\n",
      "Error: hvammstangi\n",
      "Processing record 304 of Set 1 | itupiranga\n",
      "Processing record 305 of Set 1 | ajdabiya\n",
      "Processing record 306 of Set 1 | palana\n",
      "Processing record 307 of Set 1 | jalu\n",
      "Processing record 308 of Set 1 | victoria\n",
      "Processing record 309 of Set 1 | georgiyevka\n",
      "Processing record 310 of Set 1 | trairi\n",
      "Processing record 311 of Set 1 | kudahuvadhoo\n",
      "Error: grand river south east\n",
      "Processing record 313 of Set 1 | vaitape\n",
      "Processing record 314 of Set 1 | san vicente\n",
      "Processing record 315 of Set 1 | farmington\n",
      "Processing record 316 of Set 1 | nakamura\n",
      "Processing record 317 of Set 1 | champasak\n",
      "Processing record 318 of Set 1 | cabedelo\n",
      "Processing record 319 of Set 1 | floro\n",
      "Processing record 320 of Set 1 | oranjemund\n",
      "Processing record 321 of Set 1 | black diamond\n",
      "Processing record 322 of Set 1 | novocheremshansk\n",
      "Processing record 323 of Set 1 | korla\n",
      "Processing record 324 of Set 1 | bilibino\n",
      "Processing record 325 of Set 1 | oistins\n",
      "Processing record 326 of Set 1 | ostersund\n",
      "Processing record 327 of Set 1 | whitehorse\n",
      "Processing record 328 of Set 1 | pehowa\n",
      "Processing record 329 of Set 1 | thiruvananthapuram\n",
      "Processing record 330 of Set 1 | wairoa\n",
      "Processing record 331 of Set 1 | hermanus\n",
      "Processing record 332 of Set 1 | broken hill\n",
      "Processing record 333 of Set 1 | grindavik\n",
      "Processing record 334 of Set 1 | marsh harbour\n",
      "Processing record 335 of Set 1 | nanortalik\n",
      "Processing record 336 of Set 1 | bahia honda\n",
      "Processing record 337 of Set 1 | vardo\n",
      "Processing record 338 of Set 1 | alofi\n",
      "Error: alotau\n",
      "Processing record 340 of Set 1 | shimoda\n",
      "Processing record 341 of Set 1 | seoul\n",
      "Processing record 342 of Set 1 | cayenne\n",
      "Processing record 343 of Set 1 | linden\n",
      "Processing record 344 of Set 1 | ikalamavony\n",
      "Processing record 345 of Set 1 | quatre cocos\n",
      "Processing record 346 of Set 1 | camocim\n",
      "Processing record 347 of Set 1 | santa isabel\n",
      "Processing record 348 of Set 1 | karratha\n",
      "Processing record 349 of Set 1 | ammon\n",
      "Processing record 350 of Set 1 | muravlenko\n",
      "Processing record 351 of Set 1 | orlik\n",
      "Processing record 352 of Set 1 | ilulissat\n",
      "Processing record 353 of Set 1 | vallenar\n",
      "Processing record 354 of Set 1 | katobu\n",
      "Processing record 355 of Set 1 | bojnurd\n",
      "Processing record 356 of Set 1 | garhakota\n",
      "Processing record 357 of Set 1 | izhma\n",
      "Processing record 358 of Set 1 | pemangkat\n",
      "Error: chagda\n",
      "Processing record 360 of Set 1 | hobyo\n",
      "Processing record 361 of Set 1 | lima\n",
      "Processing record 362 of Set 1 | telde\n",
      "Processing record 363 of Set 1 | vila\n",
      "Processing record 364 of Set 1 | dobrinka\n",
      "Processing record 365 of Set 1 | kuybysheve\n",
      "Processing record 366 of Set 1 | vila velha\n",
      "Processing record 367 of Set 1 | mamallapuram\n",
      "Processing record 368 of Set 1 | fonte boa\n",
      "Processing record 369 of Set 1 | new norfolk\n",
      "Error: bokspits\n",
      "Processing record 371 of Set 1 | madawaska\n",
      "Processing record 372 of Set 1 | schwabisch gmund\n",
      "Error: gulshat\n",
      "Processing record 374 of Set 1 | nizhniy kuranakh\n",
      "Processing record 375 of Set 1 | vao\n",
      "Processing record 376 of Set 1 | narsaq\n",
      "Processing record 377 of Set 1 | sonoita\n",
      "Processing record 378 of Set 1 | puerto colombia\n",
      "Processing record 379 of Set 1 | matay\n",
      "Processing record 380 of Set 1 | hvide sande\n",
      "Processing record 381 of Set 1 | bitkine\n",
      "Error: zlatoustovsk\n",
      "Processing record 383 of Set 1 | wanning\n",
      "Processing record 384 of Set 1 | waw\n",
      "Processing record 385 of Set 1 | egvekinot\n",
      "Processing record 386 of Set 1 | pachino\n",
      "Processing record 387 of Set 1 | jaltenco\n",
      "Error: attawapiskat\n",
      "Processing record 389 of Set 1 | faya\n",
      "Processing record 390 of Set 1 | djambala\n",
      "Processing record 391 of Set 1 | khovu-aksy\n",
      "Processing record 392 of Set 1 | puerto carreno\n",
      "Processing record 393 of Set 1 | horasan\n",
      "Processing record 394 of Set 1 | farafangana\n",
      "Processing record 395 of Set 1 | dhidhdhoo\n",
      "Processing record 396 of Set 1 | lata\n",
      "Processing record 397 of Set 1 | mayumba\n",
      "Processing record 398 of Set 1 | catalina\n",
      "Processing record 399 of Set 1 | luba\n",
      "Processing record 400 of Set 1 | namibe\n",
      "Processing record 401 of Set 1 | khao yoi\n",
      "Processing record 402 of Set 1 | kassala\n",
      "Processing record 403 of Set 1 | skjervoy\n",
      "Processing record 404 of Set 1 | turkan\n",
      "Processing record 405 of Set 1 | paita\n",
      "Processing record 406 of Set 1 | arlit\n",
      "Processing record 407 of Set 1 | nabire\n",
      "Processing record 408 of Set 1 | opuwo\n",
      "Processing record 409 of Set 1 | punta de bombon\n",
      "Processing record 410 of Set 1 | marystown\n",
      "Processing record 411 of Set 1 | ashland\n",
      "Processing record 412 of Set 1 | iwanai\n",
      "Processing record 413 of Set 1 | baruun-urt\n",
      "Processing record 414 of Set 1 | baykit\n"
     ]
    },
    {
     "name": "stdout",
     "output_type": "stream",
     "text": [
      "Processing record 415 of Set 1 | lorengau\n",
      "Processing record 416 of Set 1 | kibara\n",
      "Processing record 417 of Set 1 | lamu\n",
      "Error: ust-kamchatsk\n",
      "Processing record 419 of Set 1 | itoman\n",
      "Processing record 420 of Set 1 | ayan\n",
      "Processing record 421 of Set 1 | ust-tsilma\n",
      "Processing record 422 of Set 1 | buchanan\n",
      "Processing record 423 of Set 1 | powell river\n",
      "Processing record 424 of Set 1 | coihaique\n",
      "Error: umzimvubu\n",
      "Processing record 426 of Set 1 | leningradskiy\n",
      "Processing record 427 of Set 1 | aquidauana\n",
      "Processing record 428 of Set 1 | koping\n",
      "Processing record 429 of Set 1 | atar\n",
      "Processing record 430 of Set 1 | guangshui\n",
      "Processing record 431 of Set 1 | ruteng\n",
      "Processing record 432 of Set 1 | aguimes\n",
      "Processing record 433 of Set 1 | roblin\n",
      "Processing record 434 of Set 1 | nome\n",
      "Processing record 435 of Set 1 | senno\n",
      "Processing record 436 of Set 1 | pathein\n",
      "Processing record 437 of Set 1 | kynashiv\n",
      "Processing record 438 of Set 1 | seymchan\n",
      "Processing record 439 of Set 1 | manching\n",
      "Processing record 440 of Set 1 | birao\n",
      "Processing record 441 of Set 1 | inirida\n",
      "Processing record 442 of Set 1 | sao filipe\n",
      "Processing record 443 of Set 1 | borazjan\n",
      "Processing record 444 of Set 1 | burhaniye\n",
      "Processing record 445 of Set 1 | laguna\n",
      "Processing record 446 of Set 1 | kunyang\n",
      "Processing record 447 of Set 1 | henties bay\n",
      "Processing record 448 of Set 1 | lagoa\n",
      "Processing record 449 of Set 1 | grand baie\n",
      "Processing record 450 of Set 1 | wageningen\n",
      "Processing record 451 of Set 1 | ayolas\n",
      "Processing record 452 of Set 1 | salta\n",
      "Processing record 453 of Set 1 | lakes entrance\n",
      "Processing record 454 of Set 1 | rafai\n",
      "Processing record 455 of Set 1 | arman\n",
      "Error: lephepe\n",
      "Processing record 457 of Set 1 | road town\n",
      "Processing record 458 of Set 1 | adrar\n",
      "Processing record 459 of Set 1 | alta floresta\n",
      "Processing record 460 of Set 1 | accra\n",
      "Processing record 461 of Set 1 | port-gentil\n",
      "Processing record 462 of Set 1 | cartagena del chaira\n",
      "Processing record 463 of Set 1 | verkhnyaya balkariya\n",
      "Processing record 464 of Set 1 | sakaiminato\n",
      "Processing record 465 of Set 1 | jibuti\n",
      "Processing record 466 of Set 1 | bonthe\n",
      "Processing record 467 of Set 1 | gobabis\n",
      "Error: tabiauea\n",
      "Processing record 469 of Set 1 | reconquista\n",
      "Processing record 470 of Set 1 | samarai\n",
      "Processing record 471 of Set 1 | abnub\n",
      "Processing record 472 of Set 1 | sao joao da barra\n",
      "Processing record 473 of Set 1 | taltal\n",
      "Processing record 474 of Set 1 | iralaya\n",
      "Processing record 475 of Set 1 | urucara\n",
      "Processing record 476 of Set 1 | talcahuano\n",
      "Processing record 477 of Set 1 | valenca do piaui\n",
      "Processing record 478 of Set 1 | uray\n",
      "Error: grand centre\n",
      "Processing record 480 of Set 1 | sartell\n",
      "Processing record 481 of Set 1 | pundaguitan\n",
      "Processing record 482 of Set 1 | marzuq\n",
      "Processing record 483 of Set 1 | ola\n",
      "Processing record 484 of Set 1 | inhambane\n",
      "Processing record 485 of Set 1 | san jeronimo\n",
      "Processing record 486 of Set 1 | talnakh\n",
      "Processing record 487 of Set 1 | tucuma\n",
      "Error: tsihombe\n",
      "Processing record 489 of Set 1 | baiquan\n",
      "Processing record 490 of Set 1 | didwana\n",
      "Processing record 491 of Set 1 | ugoofaaru\n",
      "Processing record 492 of Set 1 | phalombe\n",
      "Processing record 493 of Set 1 | kalmunai\n",
      "Processing record 494 of Set 1 | labuhan\n",
      "Processing record 495 of Set 1 | tezu\n",
      "Processing record 496 of Set 1 | banyo\n",
      "Processing record 497 of Set 1 | mount darwin\n",
      "Processing record 498 of Set 1 | zhigansk\n",
      "Processing record 499 of Set 1 | ingham\n",
      "Processing record 500 of Set 1 | miranda de ebro\n",
      "Processing record 501 of Set 1 | gambela\n",
      "Processing record 502 of Set 1 | mandalgovi\n",
      "Processing record 503 of Set 1 | cabra\n",
      "Processing record 504 of Set 1 | rawson\n",
      "Error: fevralsk\n",
      "Processing record 506 of Set 1 | la rioja\n",
      "Processing record 507 of Set 1 | ixtapa\n",
      "Processing record 508 of Set 1 | safranbolu\n",
      "Processing record 509 of Set 1 | beya\n",
      "Processing record 510 of Set 1 | ponazyrevo\n",
      "Error: paucartambo\n",
      "Processing record 512 of Set 1 | hambantota\n",
      "Processing record 513 of Set 1 | constitucion\n",
      "Processing record 514 of Set 1 | bongaigaon\n",
      "Processing record 515 of Set 1 | awjilah\n",
      "Processing record 516 of Set 1 | boyolangu\n",
      "Processing record 517 of Set 1 | dauphin\n",
      "Processing record 518 of Set 1 | san quintin\n",
      "Error: palabuhanratu\n",
      "Error: karaul\n",
      "Processing record 521 of Set 1 | asau\n",
      "Processing record 522 of Set 1 | sinazongwe\n",
      "Processing record 523 of Set 1 | plettenberg bay\n",
      "Processing record 524 of Set 1 | bafq\n",
      "Processing record 525 of Set 1 | rodrigues alves\n",
      "Processing record 526 of Set 1 | touros\n",
      "Processing record 527 of Set 1 | gamba\n",
      "Processing record 528 of Set 1 | maniitsoq\n",
      "Processing record 529 of Set 1 | viedma\n",
      "Error: nizhneyansk\n",
      "Processing record 531 of Set 1 | bom jesus\n",
      "Processing record 532 of Set 1 | ornskoldsvik\n",
      "Processing record 533 of Set 1 | brae\n",
      "Processing record 534 of Set 1 | okha\n",
      "Processing record 535 of Set 1 | zhanaozen\n",
      "Processing record 536 of Set 1 | igarka\n",
      "Processing record 537 of Set 1 | bowen\n",
      "Processing record 538 of Set 1 | lazaro cardenas\n",
      "Processing record 539 of Set 1 | comodoro rivadavia\n",
      "Processing record 540 of Set 1 | sechura\n",
      "Processing record 541 of Set 1 | lianzhou\n",
      "Processing record 542 of Set 1 | chisec\n",
      "Processing record 543 of Set 1 | fort smith\n",
      "Processing record 544 of Set 1 | kirakira\n",
      "Processing record 545 of Set 1 | horsham\n",
      "Processing record 546 of Set 1 | xichang\n",
      "Processing record 547 of Set 1 | valle de allende\n",
      "Processing record 548 of Set 1 | erzin\n",
      "Processing record 549 of Set 1 | miri\n",
      "Processing record 550 of Set 1 | cockburn town\n",
      "Processing record 551 of Set 1 | leninskoye\n",
      "Processing record 552 of Set 1 | dunn\n",
      "Processing record 553 of Set 1 | bonfim\n",
      "Processing record 554 of Set 1 | voyinka\n",
      "Processing record 555 of Set 1 | estancia\n",
      "Processing record 556 of Set 1 | ambulu\n",
      "Processing record 557 of Set 1 | vladyslavivka\n",
      "Processing record 558 of Set 1 | caravelas\n",
      "Error: port-de-paix\n",
      "Processing record 560 of Set 1 | yangambi\n",
      "Processing record 561 of Set 1 | gondanglegi\n",
      "Processing record 562 of Set 1 | yining\n",
      "Processing record 563 of Set 1 | sattur\n",
      "Processing record 564 of Set 1 | tarko-sale\n",
      "Processing record 565 of Set 1 | kiunga\n",
      "Processing record 566 of Set 1 | palmerston\n",
      "Processing record 567 of Set 1 | muleba\n",
      "Processing record 568 of Set 1 | fengzhen\n",
      "Processing record 569 of Set 1 | ejido\n",
      "Processing record 570 of Set 1 | gogrial\n",
      "Processing record 571 of Set 1 | puerto baquerizo moreno\n",
      "Processing record 572 of Set 1 | barcelos\n",
      "Processing record 573 of Set 1 | capreol\n",
      "Processing record 574 of Set 1 | vostok\n",
      "Processing record 575 of Set 1 | mackenzie\n",
      "Processing record 576 of Set 1 | hit\n",
      "Processing record 577 of Set 1 | biloela\n",
      "Processing record 578 of Set 1 | kosh-agach\n",
      "Processing record 579 of Set 1 | morgan city\n",
      "Processing record 580 of Set 1 | orange walk\n",
      "Processing record 581 of Set 1 | jaque\n",
      "Processing record 582 of Set 1 | teknaf\n",
      "Processing record 583 of Set 1 | cururupu\n",
      "Processing record 584 of Set 1 | naze\n",
      "Processing record 585 of Set 1 | rocha\n",
      "Processing record 586 of Set 1 | beyneu\n",
      "Processing record 587 of Set 1 | atambua\n",
      "Processing record 588 of Set 1 | mozarlandia\n",
      "Processing record 589 of Set 1 | kutum\n",
      "Processing record 590 of Set 1 | santa rosa\n",
      "Processing record 591 of Set 1 | chapais\n",
      "Processing record 592 of Set 1 | kursk\n",
      "Processing record 593 of Set 1 | bambanglipuro\n",
      "Processing record 594 of Set 1 | boden\n",
      "Processing record 595 of Set 1 | pringsewu\n",
      "Processing record 596 of Set 1 | mugla\n",
      "Error: karkaralinsk\n",
      "Processing record 598 of Set 1 | bud\n",
      "Processing record 599 of Set 1 | odweyne\n",
      "Processing record 600 of Set 1 | russell\n",
      "Processing record 601 of Set 1 | lilongwe\n",
      "Processing record 602 of Set 1 | mehamn\n",
      "Processing record 603 of Set 1 | souillac\n",
      "Processing record 604 of Set 1 | karaman\n"
     ]
    }
   ],
   "source": [
    "url = \"http://api.openweathermap.org/data/2.5/weather?\"\n",
    "\n",
    "# build query and request results\n",
    "cities_found = []\n",
    "lat = []\n",
    "lng = []\n",
    "temp = []\n",
    "humidity = []\n",
    "clouds = []\n",
    "speed = []\n",
    "country = []\n",
    "dt = []\n",
    "\n",
    "\n",
    "for i, city in enumerate(cities):\n",
    "    \n",
    "    query_url = url + 'appid=' + weather_api_key + '&units=imperial' + '&q=' + city\n",
    "    \n",
    "    try:\n",
    "        \n",
    "        # Get weather data\n",
    "        weather_response = requests.get(query_url)\n",
    "        weather_json = weather_response.json()\n",
    "        #print(weather_json)\n",
    "\n",
    "        lat.append(weather_json['coord']['lat'])\n",
    "        lng.append(weather_json['coord']['lon'])\n",
    "        temp.append(weather_json['main']['temp'])\n",
    "        humidity.append(weather_json['main']['humidity'])\n",
    "        clouds.append(weather_json['clouds']['all'])\n",
    "        speed.append(weather_json['wind']['speed'])\n",
    "        country.append(weather_json['sys']['country'])\n",
    "        dt.append(weather_json['dt'])\n",
    "\n",
    "        cities_found.append(city)\n",
    "\n",
    "        # Get the temperature from the response\n",
    "        #print(f\"The weather API responded with: {weather_json}.\")\n",
    "        print(f'Processing record {i + 1} of Set 1 | {city}')\n",
    "    \n",
    "    except:\n",
    "        print(\"Error: \" + city)"
   ]
  },
  {
   "cell_type": "code",
   "execution_count": 4,
   "metadata": {},
   "outputs": [
    {
     "data": {
      "text/html": [
       "<div>\n",
       "<style scoped>\n",
       "    .dataframe tbody tr th:only-of-type {\n",
       "        vertical-align: middle;\n",
       "    }\n",
       "\n",
       "    .dataframe tbody tr th {\n",
       "        vertical-align: top;\n",
       "    }\n",
       "\n",
       "    .dataframe thead th {\n",
       "        text-align: right;\n",
       "    }\n",
       "</style>\n",
       "<table border=\"1\" class=\"dataframe\">\n",
       "  <thead>\n",
       "    <tr style=\"text-align: right;\">\n",
       "      <th></th>\n",
       "      <th>City</th>\n",
       "      <th>Latitude</th>\n",
       "      <th>Longitude</th>\n",
       "      <th>Max Temperature</th>\n",
       "      <th>Humidity</th>\n",
       "      <th>Cloudiness</th>\n",
       "      <th>Wind Speed</th>\n",
       "      <th>Country</th>\n",
       "      <th>Date</th>\n",
       "    </tr>\n",
       "  </thead>\n",
       "  <tbody>\n",
       "    <tr>\n",
       "      <th>0</th>\n",
       "      <td>punta arenas</td>\n",
       "      <td>-53.1500</td>\n",
       "      <td>-70.9167</td>\n",
       "      <td>32.11</td>\n",
       "      <td>80</td>\n",
       "      <td>0</td>\n",
       "      <td>12.66</td>\n",
       "      <td>CL</td>\n",
       "      <td>1662515999</td>\n",
       "    </tr>\n",
       "    <tr>\n",
       "      <th>1</th>\n",
       "      <td>ponta do sol</td>\n",
       "      <td>32.6667</td>\n",
       "      <td>-17.1000</td>\n",
       "      <td>70.09</td>\n",
       "      <td>75</td>\n",
       "      <td>35</td>\n",
       "      <td>2.44</td>\n",
       "      <td>PT</td>\n",
       "      <td>1662515992</td>\n",
       "    </tr>\n",
       "    <tr>\n",
       "      <th>2</th>\n",
       "      <td>bluff</td>\n",
       "      <td>-46.6000</td>\n",
       "      <td>168.3333</td>\n",
       "      <td>41.81</td>\n",
       "      <td>71</td>\n",
       "      <td>67</td>\n",
       "      <td>12.44</td>\n",
       "      <td>NZ</td>\n",
       "      <td>1662515985</td>\n",
       "    </tr>\n",
       "    <tr>\n",
       "      <th>3</th>\n",
       "      <td>castro</td>\n",
       "      <td>-24.7911</td>\n",
       "      <td>-50.0119</td>\n",
       "      <td>53.51</td>\n",
       "      <td>98</td>\n",
       "      <td>100</td>\n",
       "      <td>9.71</td>\n",
       "      <td>BR</td>\n",
       "      <td>1662516063</td>\n",
       "    </tr>\n",
       "    <tr>\n",
       "      <th>4</th>\n",
       "      <td>barrow</td>\n",
       "      <td>71.2906</td>\n",
       "      <td>-156.7887</td>\n",
       "      <td>48.22</td>\n",
       "      <td>71</td>\n",
       "      <td>0</td>\n",
       "      <td>4.61</td>\n",
       "      <td>US</td>\n",
       "      <td>1662516094</td>\n",
       "    </tr>\n",
       "    <tr>\n",
       "      <th>...</th>\n",
       "      <td>...</td>\n",
       "      <td>...</td>\n",
       "      <td>...</td>\n",
       "      <td>...</td>\n",
       "      <td>...</td>\n",
       "      <td>...</td>\n",
       "      <td>...</td>\n",
       "      <td>...</td>\n",
       "      <td>...</td>\n",
       "    </tr>\n",
       "    <tr>\n",
       "      <th>546</th>\n",
       "      <td>russell</td>\n",
       "      <td>32.3502</td>\n",
       "      <td>-85.1999</td>\n",
       "      <td>76.62</td>\n",
       "      <td>94</td>\n",
       "      <td>0</td>\n",
       "      <td>0.00</td>\n",
       "      <td>US</td>\n",
       "      <td>1662516396</td>\n",
       "    </tr>\n",
       "    <tr>\n",
       "      <th>547</th>\n",
       "      <td>lilongwe</td>\n",
       "      <td>-13.9669</td>\n",
       "      <td>33.7873</td>\n",
       "      <td>63.45</td>\n",
       "      <td>46</td>\n",
       "      <td>0</td>\n",
       "      <td>4.63</td>\n",
       "      <td>MW</td>\n",
       "      <td>1662516396</td>\n",
       "    </tr>\n",
       "    <tr>\n",
       "      <th>548</th>\n",
       "      <td>mehamn</td>\n",
       "      <td>71.0357</td>\n",
       "      <td>27.8492</td>\n",
       "      <td>40.95</td>\n",
       "      <td>93</td>\n",
       "      <td>100</td>\n",
       "      <td>3.44</td>\n",
       "      <td>NO</td>\n",
       "      <td>1662516396</td>\n",
       "    </tr>\n",
       "    <tr>\n",
       "      <th>549</th>\n",
       "      <td>souillac</td>\n",
       "      <td>-20.5167</td>\n",
       "      <td>57.5167</td>\n",
       "      <td>67.57</td>\n",
       "      <td>80</td>\n",
       "      <td>67</td>\n",
       "      <td>9.95</td>\n",
       "      <td>MU</td>\n",
       "      <td>1662516397</td>\n",
       "    </tr>\n",
       "    <tr>\n",
       "      <th>550</th>\n",
       "      <td>karaman</td>\n",
       "      <td>37.0833</td>\n",
       "      <td>33.2500</td>\n",
       "      <td>52.75</td>\n",
       "      <td>66</td>\n",
       "      <td>0</td>\n",
       "      <td>9.55</td>\n",
       "      <td>TR</td>\n",
       "      <td>1662516397</td>\n",
       "    </tr>\n",
       "  </tbody>\n",
       "</table>\n",
       "<p>551 rows × 9 columns</p>\n",
       "</div>"
      ],
      "text/plain": [
       "             City  Latitude  Longitude  Max Temperature  Humidity  Cloudiness  \\\n",
       "0    punta arenas  -53.1500   -70.9167            32.11        80           0   \n",
       "1    ponta do sol   32.6667   -17.1000            70.09        75          35   \n",
       "2           bluff  -46.6000   168.3333            41.81        71          67   \n",
       "3          castro  -24.7911   -50.0119            53.51        98         100   \n",
       "4          barrow   71.2906  -156.7887            48.22        71           0   \n",
       "..            ...       ...        ...              ...       ...         ...   \n",
       "546       russell   32.3502   -85.1999            76.62        94           0   \n",
       "547      lilongwe  -13.9669    33.7873            63.45        46           0   \n",
       "548        mehamn   71.0357    27.8492            40.95        93         100   \n",
       "549      souillac  -20.5167    57.5167            67.57        80          67   \n",
       "550       karaman   37.0833    33.2500            52.75        66           0   \n",
       "\n",
       "     Wind Speed Country        Date  \n",
       "0         12.66      CL  1662515999  \n",
       "1          2.44      PT  1662515992  \n",
       "2         12.44      NZ  1662515985  \n",
       "3          9.71      BR  1662516063  \n",
       "4          4.61      US  1662516094  \n",
       "..          ...     ...         ...  \n",
       "546        0.00      US  1662516396  \n",
       "547        4.63      MW  1662516396  \n",
       "548        3.44      NO  1662516396  \n",
       "549        9.95      MU  1662516397  \n",
       "550        9.55      TR  1662516397  \n",
       "\n",
       "[551 rows x 9 columns]"
      ]
     },
     "execution_count": 4,
     "metadata": {},
     "output_type": "execute_result"
    }
   ],
   "source": [
    "weather_dict = {\n",
    "    \"City\": cities_found,\n",
    "    \"Latitude\": lat,\n",
    "    'Longitude': lng,\n",
    "    \"Max Temperature\": temp,\n",
    "    'Humidity': humidity,\n",
    "    'Cloudiness': clouds,\n",
    "    'Wind Speed': speed,\n",
    "    'Country': country,\n",
    "    'Date': dt\n",
    "    \n",
    "}\n",
    "weather_data = pd.DataFrame(weather_dict)\n",
    "weather_data"
   ]
  },
  {
   "cell_type": "markdown",
   "metadata": {},
   "source": [
    "### Convert Raw Data to DataFrame\n",
    "* Export the city data into a .csv.\n",
    "* Display the DataFrame"
   ]
  },
  {
   "cell_type": "code",
   "execution_count": 7,
   "metadata": {},
   "outputs": [
    {
     "data": {
      "text/html": [
       "<div>\n",
       "<style scoped>\n",
       "    .dataframe tbody tr th:only-of-type {\n",
       "        vertical-align: middle;\n",
       "    }\n",
       "\n",
       "    .dataframe tbody tr th {\n",
       "        vertical-align: top;\n",
       "    }\n",
       "\n",
       "    .dataframe thead th {\n",
       "        text-align: right;\n",
       "    }\n",
       "</style>\n",
       "<table border=\"1\" class=\"dataframe\">\n",
       "  <thead>\n",
       "    <tr style=\"text-align: right;\">\n",
       "      <th></th>\n",
       "      <th>City</th>\n",
       "      <th>Latitude</th>\n",
       "      <th>Longitude</th>\n",
       "      <th>Max Temperature</th>\n",
       "      <th>Humidity</th>\n",
       "      <th>Cloudiness</th>\n",
       "      <th>Wind Speed</th>\n",
       "      <th>Country</th>\n",
       "      <th>Date</th>\n",
       "    </tr>\n",
       "  </thead>\n",
       "  <tbody>\n",
       "    <tr>\n",
       "      <th>0</th>\n",
       "      <td>punta arenas</td>\n",
       "      <td>-53.1500</td>\n",
       "      <td>-70.9167</td>\n",
       "      <td>32.11</td>\n",
       "      <td>80</td>\n",
       "      <td>0</td>\n",
       "      <td>12.66</td>\n",
       "      <td>CL</td>\n",
       "      <td>1662515999</td>\n",
       "    </tr>\n",
       "    <tr>\n",
       "      <th>1</th>\n",
       "      <td>ponta do sol</td>\n",
       "      <td>32.6667</td>\n",
       "      <td>-17.1000</td>\n",
       "      <td>70.09</td>\n",
       "      <td>75</td>\n",
       "      <td>35</td>\n",
       "      <td>2.44</td>\n",
       "      <td>PT</td>\n",
       "      <td>1662515992</td>\n",
       "    </tr>\n",
       "    <tr>\n",
       "      <th>2</th>\n",
       "      <td>bluff</td>\n",
       "      <td>-46.6000</td>\n",
       "      <td>168.3333</td>\n",
       "      <td>41.81</td>\n",
       "      <td>71</td>\n",
       "      <td>67</td>\n",
       "      <td>12.44</td>\n",
       "      <td>NZ</td>\n",
       "      <td>1662515985</td>\n",
       "    </tr>\n",
       "    <tr>\n",
       "      <th>3</th>\n",
       "      <td>castro</td>\n",
       "      <td>-24.7911</td>\n",
       "      <td>-50.0119</td>\n",
       "      <td>53.51</td>\n",
       "      <td>98</td>\n",
       "      <td>100</td>\n",
       "      <td>9.71</td>\n",
       "      <td>BR</td>\n",
       "      <td>1662516063</td>\n",
       "    </tr>\n",
       "    <tr>\n",
       "      <th>4</th>\n",
       "      <td>barrow</td>\n",
       "      <td>71.2906</td>\n",
       "      <td>-156.7887</td>\n",
       "      <td>48.22</td>\n",
       "      <td>71</td>\n",
       "      <td>0</td>\n",
       "      <td>4.61</td>\n",
       "      <td>US</td>\n",
       "      <td>1662516094</td>\n",
       "    </tr>\n",
       "  </tbody>\n",
       "</table>\n",
       "</div>"
      ],
      "text/plain": [
       "           City  Latitude  Longitude  Max Temperature  Humidity  Cloudiness  \\\n",
       "0  punta arenas  -53.1500   -70.9167            32.11        80           0   \n",
       "1  ponta do sol   32.6667   -17.1000            70.09        75          35   \n",
       "2         bluff  -46.6000   168.3333            41.81        71          67   \n",
       "3        castro  -24.7911   -50.0119            53.51        98         100   \n",
       "4        barrow   71.2906  -156.7887            48.22        71           0   \n",
       "\n",
       "   Wind Speed Country        Date  \n",
       "0       12.66      CL  1662515999  \n",
       "1        2.44      PT  1662515992  \n",
       "2       12.44      NZ  1662515985  \n",
       "3        9.71      BR  1662516063  \n",
       "4        4.61      US  1662516094  "
      ]
     },
     "execution_count": 7,
     "metadata": {},
     "output_type": "execute_result"
    }
   ],
   "source": [
    "weather_data.to_csv(\n",
    "    path_or_buf = \"../output_data/cities.csv\"\n",
    ")\n",
    "weather_data.head()"
   ]
  },
  {
   "cell_type": "code",
   "execution_count": 8,
   "metadata": {},
   "outputs": [],
   "source": [
    "weather_data.to_csv(\"../output_data/weather_data.csv\", index = False)\n"
   ]
  },
  {
   "cell_type": "markdown",
   "metadata": {},
   "source": [
    "## Inspect the data and remove the cities where the humidity > 100%.\n",
    "----\n",
    "Skip this step if there are no cities that have humidity > 100%. "
   ]
  },
  {
   "cell_type": "code",
   "execution_count": 9,
   "metadata": {},
   "outputs": [
    {
     "name": "stdout",
     "output_type": "stream",
     "text": [
      "The maximum humidity for the cities in the dataframe is 100\n"
     ]
    }
   ],
   "source": [
    "print(f\"The maximum humidity for the cities in the dataframe is {weather_data['Humidity'].max()}\")\n"
   ]
  },
  {
   "cell_type": "code",
   "execution_count": 15,
   "metadata": {},
   "outputs": [
    {
     "data": {
      "text/html": [
       "<div>\n",
       "<style scoped>\n",
       "    .dataframe tbody tr th:only-of-type {\n",
       "        vertical-align: middle;\n",
       "    }\n",
       "\n",
       "    .dataframe tbody tr th {\n",
       "        vertical-align: top;\n",
       "    }\n",
       "\n",
       "    .dataframe thead th {\n",
       "        text-align: right;\n",
       "    }\n",
       "</style>\n",
       "<table border=\"1\" class=\"dataframe\">\n",
       "  <thead>\n",
       "    <tr style=\"text-align: right;\">\n",
       "      <th></th>\n",
       "      <th>City</th>\n",
       "      <th>Latitude</th>\n",
       "      <th>Longitude</th>\n",
       "      <th>Max Temperature</th>\n",
       "      <th>Humidity</th>\n",
       "      <th>Cloudiness</th>\n",
       "      <th>Wind Speed</th>\n",
       "      <th>Country</th>\n",
       "      <th>Date</th>\n",
       "    </tr>\n",
       "  </thead>\n",
       "  <tbody>\n",
       "    <tr>\n",
       "      <th>0</th>\n",
       "      <td>punta arenas</td>\n",
       "      <td>-53.1500</td>\n",
       "      <td>-70.9167</td>\n",
       "      <td>32.11</td>\n",
       "      <td>80</td>\n",
       "      <td>0</td>\n",
       "      <td>12.66</td>\n",
       "      <td>CL</td>\n",
       "      <td>1662515999</td>\n",
       "    </tr>\n",
       "    <tr>\n",
       "      <th>1</th>\n",
       "      <td>ponta do sol</td>\n",
       "      <td>32.6667</td>\n",
       "      <td>-17.1000</td>\n",
       "      <td>70.09</td>\n",
       "      <td>75</td>\n",
       "      <td>35</td>\n",
       "      <td>2.44</td>\n",
       "      <td>PT</td>\n",
       "      <td>1662515992</td>\n",
       "    </tr>\n",
       "    <tr>\n",
       "      <th>2</th>\n",
       "      <td>bluff</td>\n",
       "      <td>-46.6000</td>\n",
       "      <td>168.3333</td>\n",
       "      <td>41.81</td>\n",
       "      <td>71</td>\n",
       "      <td>67</td>\n",
       "      <td>12.44</td>\n",
       "      <td>NZ</td>\n",
       "      <td>1662515985</td>\n",
       "    </tr>\n",
       "    <tr>\n",
       "      <th>3</th>\n",
       "      <td>castro</td>\n",
       "      <td>-24.7911</td>\n",
       "      <td>-50.0119</td>\n",
       "      <td>53.51</td>\n",
       "      <td>98</td>\n",
       "      <td>100</td>\n",
       "      <td>9.71</td>\n",
       "      <td>BR</td>\n",
       "      <td>1662516063</td>\n",
       "    </tr>\n",
       "    <tr>\n",
       "      <th>4</th>\n",
       "      <td>barrow</td>\n",
       "      <td>71.2906</td>\n",
       "      <td>-156.7887</td>\n",
       "      <td>48.22</td>\n",
       "      <td>71</td>\n",
       "      <td>0</td>\n",
       "      <td>4.61</td>\n",
       "      <td>US</td>\n",
       "      <td>1662516094</td>\n",
       "    </tr>\n",
       "    <tr>\n",
       "      <th>...</th>\n",
       "      <td>...</td>\n",
       "      <td>...</td>\n",
       "      <td>...</td>\n",
       "      <td>...</td>\n",
       "      <td>...</td>\n",
       "      <td>...</td>\n",
       "      <td>...</td>\n",
       "      <td>...</td>\n",
       "      <td>...</td>\n",
       "    </tr>\n",
       "    <tr>\n",
       "      <th>546</th>\n",
       "      <td>russell</td>\n",
       "      <td>32.3502</td>\n",
       "      <td>-85.1999</td>\n",
       "      <td>76.62</td>\n",
       "      <td>94</td>\n",
       "      <td>0</td>\n",
       "      <td>0.00</td>\n",
       "      <td>US</td>\n",
       "      <td>1662516396</td>\n",
       "    </tr>\n",
       "    <tr>\n",
       "      <th>547</th>\n",
       "      <td>lilongwe</td>\n",
       "      <td>-13.9669</td>\n",
       "      <td>33.7873</td>\n",
       "      <td>63.45</td>\n",
       "      <td>46</td>\n",
       "      <td>0</td>\n",
       "      <td>4.63</td>\n",
       "      <td>MW</td>\n",
       "      <td>1662516396</td>\n",
       "    </tr>\n",
       "    <tr>\n",
       "      <th>548</th>\n",
       "      <td>mehamn</td>\n",
       "      <td>71.0357</td>\n",
       "      <td>27.8492</td>\n",
       "      <td>40.95</td>\n",
       "      <td>93</td>\n",
       "      <td>100</td>\n",
       "      <td>3.44</td>\n",
       "      <td>NO</td>\n",
       "      <td>1662516396</td>\n",
       "    </tr>\n",
       "    <tr>\n",
       "      <th>549</th>\n",
       "      <td>souillac</td>\n",
       "      <td>-20.5167</td>\n",
       "      <td>57.5167</td>\n",
       "      <td>67.57</td>\n",
       "      <td>80</td>\n",
       "      <td>67</td>\n",
       "      <td>9.95</td>\n",
       "      <td>MU</td>\n",
       "      <td>1662516397</td>\n",
       "    </tr>\n",
       "    <tr>\n",
       "      <th>550</th>\n",
       "      <td>karaman</td>\n",
       "      <td>37.0833</td>\n",
       "      <td>33.2500</td>\n",
       "      <td>52.75</td>\n",
       "      <td>66</td>\n",
       "      <td>0</td>\n",
       "      <td>9.55</td>\n",
       "      <td>TR</td>\n",
       "      <td>1662516397</td>\n",
       "    </tr>\n",
       "  </tbody>\n",
       "</table>\n",
       "<p>551 rows × 9 columns</p>\n",
       "</div>"
      ],
      "text/plain": [
       "             City  Latitude  Longitude  Max Temperature  Humidity  Cloudiness  \\\n",
       "0    punta arenas  -53.1500   -70.9167            32.11        80           0   \n",
       "1    ponta do sol   32.6667   -17.1000            70.09        75          35   \n",
       "2           bluff  -46.6000   168.3333            41.81        71          67   \n",
       "3          castro  -24.7911   -50.0119            53.51        98         100   \n",
       "4          barrow   71.2906  -156.7887            48.22        71           0   \n",
       "..            ...       ...        ...              ...       ...         ...   \n",
       "546       russell   32.3502   -85.1999            76.62        94           0   \n",
       "547      lilongwe  -13.9669    33.7873            63.45        46           0   \n",
       "548        mehamn   71.0357    27.8492            40.95        93         100   \n",
       "549      souillac  -20.5167    57.5167            67.57        80          67   \n",
       "550       karaman   37.0833    33.2500            52.75        66           0   \n",
       "\n",
       "     Wind Speed Country        Date  \n",
       "0         12.66      CL  1662515999  \n",
       "1          2.44      PT  1662515992  \n",
       "2         12.44      NZ  1662515985  \n",
       "3          9.71      BR  1662516063  \n",
       "4          4.61      US  1662516094  \n",
       "..          ...     ...         ...  \n",
       "546        0.00      US  1662516396  \n",
       "547        4.63      MW  1662516396  \n",
       "548        3.44      NO  1662516396  \n",
       "549        9.95      MU  1662516397  \n",
       "550        9.55      TR  1662516397  \n",
       "\n",
       "[551 rows x 9 columns]"
      ]
     },
     "execution_count": 15,
     "metadata": {},
     "output_type": "execute_result"
    }
   ],
   "source": [
    "#  Get the indices of cities that have humidity over 100%.\n",
    "humidity_data_df = weather_data.loc[(weather_data['Humidity'] > 100)]\n",
    "weather_data"
   ]
  },
  {
   "cell_type": "code",
   "execution_count": 17,
   "metadata": {},
   "outputs": [],
   "source": [
    "# Make a new DataFrame equal to the city data to drop all humidity outliers by index.\n",
    "# Passing \"inplace=False\" will make a copy of the city_data DataFrame, which we call \"clean_city_data\".\n",
    "\n",
    "# clean_city_data = weather_data.drop([(weather_data['Humidity'] >= 100)])\n",
    "# clean_city_data"
   ]
  },
  {
   "cell_type": "code",
   "execution_count": null,
   "metadata": {},
   "outputs": [],
   "source": [
    "\n"
   ]
  },
  {
   "cell_type": "markdown",
   "metadata": {},
   "source": [
    "## Plotting the Data\n",
    "* Use proper labeling of the plots using plot titles (including date of analysis) and axes labels.\n",
    "* Save the plotted figures as .pngs."
   ]
  },
  {
   "cell_type": "markdown",
   "metadata": {},
   "source": [
    "## Latitude vs. Temperature Plot"
   ]
  },
  {
   "cell_type": "code",
   "execution_count": 18,
   "metadata": {
    "scrolled": true
   },
   "outputs": [
    {
     "data": {
      "text/plain": [
       "<matplotlib.collections.PathCollection at 0x1d1a1d29280>"
      ]
     },
     "execution_count": 18,
     "metadata": {},
     "output_type": "execute_result"
    },
    {
     "data": {
      "image/png": "[encoded data removed]",
      "text/plain": [
       "<Figure size 432x288 with 1 Axes>"
      ]
     },
     "metadata": {
      "needs_background": "light"
     },
     "output_type": "display_data"
    }
   ],
   "source": [
    "plt.title('City Latitude vs. Max Temperature (F) (04/25/22)')\n",
    "plt.xlabel('Latitude')\n",
    "plt.ylabel('Max Temperature (F)')\n",
    "\n",
    "x1 = lat\n",
    "y1 = temp\n",
    "\n",
    "plt.scatter(x1, y1)"
   ]
  },
  {
   "cell_type": "markdown",
   "metadata": {},
   "source": [
    "## Latitude vs. Humidity Plot"
   ]
  },
  {
   "cell_type": "code",
   "execution_count": 19,
   "metadata": {},
   "outputs": [
    {
     "data": {
      "text/plain": [
       "<matplotlib.collections.PathCollection at 0x1d1a24238e0>"
      ]
     },
     "execution_count": 19,
     "metadata": {},
     "output_type": "execute_result"
    },
    {
     "data": {
      "image/png": "[encoded data removed]",
      "text/plain": [
       "<Figure size 432x288 with 1 Axes>"
      ]
     },
     "metadata": {
      "needs_background": "light"
     },
     "output_type": "display_data"
    }
   ],
   "source": [
    "plt.title('City Latitude vs. Humidity (%) (04/25/22)')\n",
    "plt.xlabel('Latitude')\n",
    "plt.ylabel('Humidity (%)')\n",
    "\n",
    "x2 = lat\n",
    "y2 = humidity\n",
    "\n",
    "plt.scatter(x2, y2)"
   ]
  },
  {
   "cell_type": "markdown",
   "metadata": {},
   "source": [
    "## Latitude vs. Cloudiness Plot"
   ]
  },
  {
   "cell_type": "code",
   "execution_count": 20,
   "metadata": {},
   "outputs": [
    {
     "data": {
      "text/plain": [
       "<matplotlib.collections.PathCollection at 0x1d1a250a7c0>"
      ]
     },
     "execution_count": 20,
     "metadata": {},
     "output_type": "execute_result"
    },
    {
     "data": {
      "image/png": "[encoded data removed]",
      "text/plain": [
       "<Figure size 432x288 with 1 Axes>"
      ]
     },
     "metadata": {
      "needs_background": "light"
     },
     "output_type": "display_data"
    }
   ],
   "source": [
    "plt.title('City Latitude vs. Cloudiness (%) (04/25/22)')\n",
    "plt.xlabel('Latitude')\n",
    "plt.ylabel('Cloudiness (%)')\n",
    "\n",
    "x3 = lat\n",
    "y3 = clouds\n",
    "\n",
    "plt.scatter(x3, y3)"
   ]
  },
  {
   "cell_type": "markdown",
   "metadata": {},
   "source": [
    "## Latitude vs. Wind Speed Plot"
   ]
  },
  {
   "cell_type": "code",
   "execution_count": 21,
   "metadata": {},
   "outputs": [
    {
     "data": {
      "text/plain": [
       "<matplotlib.collections.PathCollection at 0x1d1a245dcd0>"
      ]
     },
     "execution_count": 21,
     "metadata": {},
     "output_type": "execute_result"
    },
    {
     "data": {
      "image/png": "[encoded data removed]",
      "text/plain": [
       "<Figure size 432x288 with 1 Axes>"
      ]
     },
     "metadata": {
      "needs_background": "light"
     },
     "output_type": "display_data"
    }
   ],
   "source": [
    "plt.title('City Latitude vs. Wind Speed (mph) (04/25/22)')\n",
    "plt.xlabel('Latitude')\n",
    "plt.ylabel('Wind Speed (mph)')\n",
    "\n",
    "x4 = lat\n",
    "y4 = speed\n",
    "\n",
    "plt.scatter(x4, y4)"
   ]
  },
  {
   "cell_type": "markdown",
   "metadata": {},
   "source": [
    "## Linear Regression"
   ]
  },
  {
   "cell_type": "code",
   "execution_count": 22,
   "metadata": {},
   "outputs": [],
   "source": [
    "lat_north = weather_data.loc[weather_data['Latitude'] > 0]\n",
    "lat_south = weather_data.loc[weather_data['Latitude'] < 0]"
   ]
  },
  {
   "cell_type": "markdown",
   "metadata": {},
   "source": [
    "####  Northern Hemisphere - Max Temp vs. Latitude Linear Regression"
   ]
  },
  {
   "cell_type": "code",
   "execution_count": 23,
   "metadata": {},
   "outputs": [
    {
     "name": "stdout",
     "output_type": "stream",
     "text": [
      "The value of r-squared is: 0.601498282646028\n"
     ]
    },
    {
     "data": {
      "text/plain": [
       "Text(0, 50, 'y = -0.58x + 88.15')"
      ]
     },
     "execution_count": 23,
     "metadata": {},
     "output_type": "execute_result"
    },
    {
     "data": {
      "image/png": "[encoded data removed]",
      "text/plain": [
       "<Figure size 432x288 with 1 Axes>"
      ]
     },
     "metadata": {
      "needs_background": "light"
     },
     "output_type": "display_data"
    }
   ],
   "source": [
    "plt.title('Northern Hemisphere - City Latitude vs. Max Temperature (F) (04/25/22)')\n",
    "plt.xlabel('Latitude')\n",
    "plt.ylabel('Max Temperature (F)')\n",
    "\n",
    "x5 = lat_north['Latitude']\n",
    "y5 = lat_north['Max Temperature']\n",
    "\n",
    "plt.scatter(x5, y5)\n",
    "\n",
    "(slope, intercept, r, p, se) = linregress(x5, y5)\n",
    "regress_values = x5 * slope + intercept\n",
    "line_eq = \"y = \" + str(round(slope,2)) + \"x + \" + str(round(intercept,2))\n",
    "\n",
    "print(f\"The value of r-squared is: {r**2}\")\n",
    "plt.plot(x5,regress_values,\"r-\")\n",
    "plt.annotate(line_eq,(0,50),fontsize=15,color=\"red\")"
   ]
  },
  {
   "cell_type": "markdown",
   "metadata": {},
   "source": [
    "####  Southern Hemisphere - Max Temp vs. Latitude Linear Regression"
   ]
  },
  {
   "cell_type": "code",
   "execution_count": 24,
   "metadata": {},
   "outputs": [
    {
     "name": "stdout",
     "output_type": "stream",
     "text": [
      "The value of r-squared is: 0.6480236991569824\n"
     ]
    },
    {
     "data": {
      "text/plain": [
       "Text(0, 50, 'y = 0.77x + 82.01')"
      ]
     },
     "execution_count": 24,
     "metadata": {},
     "output_type": "execute_result"
    },
    {
     "data": {
      "image/png": "[encoded data removed]",
      "text/plain": [
       "<Figure size 432x288 with 1 Axes>"
      ]
     },
     "metadata": {
      "needs_background": "light"
     },
     "output_type": "display_data"
    }
   ],
   "source": [
    "plt.title('Southern Hemisphere - City Latitude vs. Max Temperature (F) (04/25/22)')\n",
    "plt.xlabel('Latitude')\n",
    "plt.ylabel('Max Temperature (F)')\n",
    "\n",
    "x6 = lat_south['Latitude']\n",
    "y6 = lat_south['Max Temperature']\n",
    "\n",
    "plt.scatter(x6, y6)\n",
    "\n",
    "(slope, intercept, r, p, se) = linregress(x6, y6)\n",
    "regress_values = x6 * slope + intercept\n",
    "line_eq = \"y = \" + str(round(slope,2)) + \"x + \" + str(round(intercept,2))\n",
    "\n",
    "print(f\"The value of r-squared is: {r**2}\")\n",
    "plt.plot(x6,regress_values,\"r-\")\n",
    "plt.annotate(line_eq,(0,50),fontsize=15,color=\"red\")"
   ]
  },
  {
   "cell_type": "markdown",
   "metadata": {},
   "source": [
    "####  Northern Hemisphere - Humidity (%) vs. Latitude Linear Regression"
   ]
  },
  {
   "cell_type": "code",
   "execution_count": 25,
   "metadata": {},
   "outputs": [
    {
     "name": "stdout",
     "output_type": "stream",
     "text": [
      "The value of r-squared is: 0.004494343318111227\n"
     ]
    },
    {
     "data": {
      "text/plain": [
       "Text(0, 50, 'y = -0.07x + 74.59')"
      ]
     },
     "execution_count": 25,
     "metadata": {},
     "output_type": "execute_result"
    },
    {
     "data": {
      "image/png": "[encoded data removed]",
      "text/plain": [
       "<Figure size 432x288 with 1 Axes>"
      ]
     },
     "metadata": {
      "needs_background": "light"
     },
     "output_type": "display_data"
    }
   ],
   "source": [
    "plt.title('Northern Hemisphere - City Latitude vs. Humidity (%) (04/25/22)')\n",
    "plt.xlabel('Latitude')\n",
    "plt.ylabel('Humidity (%)')\n",
    "\n",
    "x7 = lat_north['Latitude']\n",
    "y7 = lat_north['Humidity']\n",
    "\n",
    "plt.scatter(x7, y7)\n",
    "\n",
    "(slope, intercept, r, p, se) = linregress(x7, y7)\n",
    "regress_values = x7 * slope + intercept\n",
    "line_eq = \"y = \" + str(round(slope,2)) + \"x + \" + str(round(intercept,2))\n",
    "\n",
    "print(f\"The value of r-squared is: {r**2}\")\n",
    "plt.plot(x7,regress_values,\"r-\")\n",
    "plt.annotate(line_eq,(0,50),fontsize=15,color=\"red\")"
   ]
  },
  {
   "cell_type": "markdown",
   "metadata": {},
   "source": [
    "####  Southern Hemisphere - Humidity (%) vs. Latitude Linear Regression"
   ]
  },
  {
   "cell_type": "code",
   "execution_count": 26,
   "metadata": {},
   "outputs": [
    {
     "name": "stdout",
     "output_type": "stream",
     "text": [
      "The value of r-squared is: 0.0017166859885566058\n"
     ]
    },
    {
     "data": {
      "text/plain": [
       "Text(0, 50, 'y = -0.06x + 69.91')"
      ]
     },
     "execution_count": 26,
     "metadata": {},
     "output_type": "execute_result"
    },
    {
     "data": {
      "image/png": "[encoded data removed]",
      "text/plain": [
       "<Figure size 432x288 with 1 Axes>"
      ]
     },
     "metadata": {
      "needs_background": "light"
     },
     "output_type": "display_data"
    }
   ],
   "source": [
    "plt.title('Southern Hemisphere - City Latitude vs. Humidity (%) (04/25/22)')\n",
    "plt.xlabel('Latitude')\n",
    "plt.ylabel('Humidity (%)')\n",
    "\n",
    "x8 = lat_south['Latitude']\n",
    "y8 = lat_south['Humidity']\n",
    "\n",
    "plt.scatter(x8, y8)\n",
    "\n",
    "(slope, intercept, r, p, se) = linregress(x8, y8)\n",
    "regress_values = x8 * slope + intercept\n",
    "line_eq = \"y = \" + str(round(slope,2)) + \"x + \" + str(round(intercept,2))\n",
    "\n",
    "print(f\"The value of r-squared is: {r**2}\")\n",
    "plt.plot(x8,regress_values,\"r-\")\n",
    "plt.annotate(line_eq,(0,50),fontsize=15,color=\"red\")"
   ]
  },
  {
   "cell_type": "markdown",
   "metadata": {},
   "source": [
    "####  Northern Hemisphere - Cloudiness (%) vs. Latitude Linear Regression"
   ]
  },
  {
   "cell_type": "code",
   "execution_count": 27,
   "metadata": {},
   "outputs": [
    {
     "name": "stdout",
     "output_type": "stream",
     "text": [
      "The value of r-squared is: 0.0003142346287162865\n"
     ]
    },
    {
     "data": {
      "text/plain": [
       "Text(0, 50, 'y = -0.04x + 61.67')"
      ]
     },
     "execution_count": 27,
     "metadata": {},
     "output_type": "execute_result"
    },
    {
     "data": {
      "image/png": "[encoded data removed]",
      "text/plain": [
       "<Figure size 432x288 with 1 Axes>"
      ]
     },
     "metadata": {
      "needs_background": "light"
     },
     "output_type": "display_data"
    }
   ],
   "source": [
    "plt.title('Northern Hemisphere - City Latitude vs. Cloudiness (%) (04/25/22)')\n",
    "plt.xlabel('Latitude')\n",
    "plt.ylabel('Cloudiness (%)')\n",
    "\n",
    "x9 = lat_north['Latitude']\n",
    "y9 = lat_north['Cloudiness']\n",
    "\n",
    "plt.scatter(x9, y9)\n",
    "\n",
    "(slope, intercept, r, p, se) = linregress(x9, y9)\n",
    "regress_values = x9 * slope + intercept\n",
    "line_eq = \"y = \" + str(round(slope,2)) + \"x + \" + str(round(intercept,2))\n",
    "\n",
    "print(f\"The value of r-squared is: {r**2}\")\n",
    "plt.plot(x9,regress_values,\"r-\")\n",
    "plt.annotate(line_eq,(0,50),fontsize=15,color=\"red\")"
   ]
  },
  {
   "cell_type": "markdown",
   "metadata": {},
   "source": [
    "####  Southern Hemisphere - Cloudiness (%) vs. Latitude Linear Regression"
   ]
  },
  {
   "cell_type": "code",
   "execution_count": 28,
   "metadata": {},
   "outputs": [
    {
     "name": "stdout",
     "output_type": "stream",
     "text": [
      "The value of r-squared is: 0.0017441745618086532\n"
     ]
    },
    {
     "data": {
      "text/plain": [
       "Text(0, 50, 'y = -0.12x + 45.76')"
      ]
     },
     "execution_count": 28,
     "metadata": {},
     "output_type": "execute_result"
    },
    {
     "data": {
      "image/png": "[encoded data removed]",
      "text/plain": [
       "<Figure size 432x288 with 1 Axes>"
      ]
     },
     "metadata": {
      "needs_background": "light"
     },
     "output_type": "display_data"
    }
   ],
   "source": [
    "plt.title('Southern Hemisphere - City Latitude vs. Cloudiness (%) (04/25/22)')\n",
    "plt.xlabel('Latitude')\n",
    "plt.ylabel('Cloudiness (%)')\n",
    "\n",
    "x10 = lat_south['Latitude']\n",
    "y10 = lat_south['Cloudiness']\n",
    "\n",
    "plt.scatter(x10, y10)\n",
    "\n",
    "(slope, intercept, r, p, se) = linregress(x10, y10)\n",
    "regress_values = x10 * slope + intercept\n",
    "line_eq = \"y = \" + str(round(slope,2)) + \"x + \" + str(round(intercept,2))\n",
    "\n",
    "print(f\"The value of r-squared is: {r**2}\")\n",
    "plt.plot(x10,regress_values,\"r-\")\n",
    "plt.annotate(line_eq,(0,50),fontsize=15,color=\"red\")"
   ]
  },
  {
   "cell_type": "markdown",
   "metadata": {},
   "source": [
    "####  Northern Hemisphere - Wind Speed (mph) vs. Latitude Linear Regression"
   ]
  },
  {
   "cell_type": "code",
   "execution_count": 29,
   "metadata": {},
   "outputs": [
    {
     "name": "stdout",
     "output_type": "stream",
     "text": [
      "The value of r-squared is: 0.0029673693296454664\n"
     ]
    },
    {
     "data": {
      "text/plain": [
       "Text(0, 50, 'y = 0.01x + 6.53')"
      ]
     },
     "execution_count": 29,
     "metadata": {},
     "output_type": "execute_result"
    },
    {
     "data": {
      "image/png": "[encoded data removed]",
      "text/plain": [
       "<Figure size 432x288 with 1 Axes>"
      ]
     },
     "metadata": {
      "needs_background": "light"
     },
     "output_type": "display_data"
    }
   ],
   "source": [
    "plt.title('Northern Hemisphere - City Latitude vs. Wind Speed (mph) (04/25/22)')\n",
    "plt.xlabel('Latitude')\n",
    "plt.ylabel('Wind Speed (mph)')\n",
    "\n",
    "x11 = lat_north['Latitude']\n",
    "y11 = lat_north['Wind Speed']\n",
    "\n",
    "plt.scatter(x11, y11)\n",
    "\n",
    "(slope, intercept, r, p, se) = linregress(x11, y11)\n",
    "regress_values = x11 * slope + intercept\n",
    "line_eq = \"y = \" + str(round(slope,2)) + \"x + \" + str(round(intercept,2))\n",
    "\n",
    "print(f\"The value of r-squared is: {r**2}\")\n",
    "plt.plot(x11,regress_values,\"r-\")\n",
    "plt.annotate(line_eq,(0,50),fontsize=15,color=\"red\")"
   ]
  },
  {
   "cell_type": "markdown",
   "metadata": {},
   "source": [
    "####  Southern Hemisphere - Wind Speed (mph) vs. Latitude Linear Regression"
   ]
  },
  {
   "cell_type": "code",
   "execution_count": 30,
   "metadata": {},
   "outputs": [
    {
     "name": "stdout",
     "output_type": "stream",
     "text": [
      "The value of r-squared is: 0.017709092367684823\n"
     ]
    },
    {
     "data": {
      "text/plain": [
       "Text(0, 50, 'y = -0.05x + 7.68')"
      ]
     },
     "execution_count": 30,
     "metadata": {},
     "output_type": "execute_result"
    },
    {
     "data": {
      "image/png": "[encoded data removed]",
      "text/plain": [
       "<Figure size 432x288 with 1 Axes>"
      ]
     },
     "metadata": {
      "needs_background": "light"
     },
     "output_type": "display_data"
    }
   ],
   "source": [
    "plt.title('Southern Hemisphere - City Latitude vs. Wind Speed (mph) (04/25/22)')\n",
    "plt.xlabel('Latitude')\n",
    "plt.ylabel('Wind Speed (mph)')\n",
    "\n",
    "x12 = lat_south['Latitude']\n",
    "y12 = lat_south['Wind Speed']\n",
    "\n",
    "plt.scatter(x12, y12)\n",
    "\n",
    "(slope, intercept, r, p, se) = linregress(x12, y12)\n",
    "regress_values = x12 * slope + intercept\n",
    "line_eq = \"y = \" + str(round(slope,2)) + \"x + \" + str(round(intercept,2))\n",
    "\n",
    "print(f\"The value of r-squared is: {r**2}\")\n",
    "plt.plot(x12,regress_values,\"r-\")\n",
    "plt.annotate(line_eq,(0,50),fontsize=15,color=\"red\")"
   ]
  },
  {
   "cell_type": "code",
   "execution_count": null,
   "metadata": {},
   "outputs": [],
   "source": []
  }
 ],
 "metadata": {
  "anaconda-cloud": {},
  "kernel_info": {
   "name": "python3"
  },
  "kernelspec": {
   "display_name": "Python 3 (ipykernel)",
   "language": "python",
   "name": "python3"
  },
  "language_info": {
   "codemirror_mode": {
    "name": "ipython",
    "version": 3
   },
   "file_extension": ".py",
   "mimetype": "text/x-python",
   "name": "python",
   "nbconvert_exporter": "python",
   "pygments_lexer": "ipython3",
   "version": "3.9.7"
  },
  "latex_envs": {
   "LaTeX_envs_menu_present": true,
   "autoclose": false,
   "autocomplete": true,
   "bibliofile": "biblio.bib",
   "cite_by": "apalike",
   "current_citInitial": 1,
   "eqLabelWithNumbers": true,
   "eqNumInitial": 1,
   "hotkeys": {
    "equation": "Ctrl-E",
    "itemize": "Ctrl-I"
   },
   "labels_anchors": false,
   "latex_user_defs": false,
   "report_style_numbering": false,
   "user_envs_cfg": false
  },
  "nteract": {
   "version": "0.12.3"
  }
 },
 "nbformat": 4,
 "nbformat_minor": 2
}
